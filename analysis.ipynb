{
 "cells": [
  {
   "cell_type": "code",
   "execution_count": 1,
   "id": "90ed5d40",
   "metadata": {},
   "outputs": [],
   "source": [
    "import pandas as pd\n",
    "import numpy as np\n",
    "import plotly.express as plt"
   ]
  },
  {
   "cell_type": "code",
   "execution_count": 2,
   "id": "83e284de",
   "metadata": {},
   "outputs": [],
   "source": [
    "df = pd.read_csv('calories.csv')"
   ]
  },
  {
   "cell_type": "code",
   "execution_count": 3,
   "id": "5f8fc2ec",
   "metadata": {},
   "outputs": [
    {
     "data": {
      "text/html": [
       "<div>\n",
       "<style scoped>\n",
       "    .dataframe tbody tr th:only-of-type {\n",
       "        vertical-align: middle;\n",
       "    }\n",
       "\n",
       "    .dataframe tbody tr th {\n",
       "        vertical-align: top;\n",
       "    }\n",
       "\n",
       "    .dataframe thead th {\n",
       "        text-align: right;\n",
       "    }\n",
       "</style>\n",
       "<table border=\"1\" class=\"dataframe\">\n",
       "  <thead>\n",
       "    <tr style=\"text-align: right;\">\n",
       "      <th></th>\n",
       "      <th>User_ID</th>\n",
       "      <th>Gender</th>\n",
       "      <th>Age</th>\n",
       "      <th>Height</th>\n",
       "      <th>Weight</th>\n",
       "      <th>Duration</th>\n",
       "      <th>Heart_Rate</th>\n",
       "      <th>Body_Temp</th>\n",
       "      <th>Calories</th>\n",
       "    </tr>\n",
       "  </thead>\n",
       "  <tbody>\n",
       "    <tr>\n",
       "      <th>0</th>\n",
       "      <td>14733363</td>\n",
       "      <td>male</td>\n",
       "      <td>68</td>\n",
       "      <td>190.0</td>\n",
       "      <td>94.0</td>\n",
       "      <td>29.0</td>\n",
       "      <td>105.0</td>\n",
       "      <td>40.8</td>\n",
       "      <td>231.0</td>\n",
       "    </tr>\n",
       "    <tr>\n",
       "      <th>1</th>\n",
       "      <td>14861698</td>\n",
       "      <td>female</td>\n",
       "      <td>20</td>\n",
       "      <td>166.0</td>\n",
       "      <td>60.0</td>\n",
       "      <td>14.0</td>\n",
       "      <td>94.0</td>\n",
       "      <td>40.3</td>\n",
       "      <td>66.0</td>\n",
       "    </tr>\n",
       "    <tr>\n",
       "      <th>2</th>\n",
       "      <td>11179863</td>\n",
       "      <td>male</td>\n",
       "      <td>69</td>\n",
       "      <td>179.0</td>\n",
       "      <td>79.0</td>\n",
       "      <td>5.0</td>\n",
       "      <td>88.0</td>\n",
       "      <td>38.7</td>\n",
       "      <td>26.0</td>\n",
       "    </tr>\n",
       "    <tr>\n",
       "      <th>3</th>\n",
       "      <td>16180408</td>\n",
       "      <td>female</td>\n",
       "      <td>34</td>\n",
       "      <td>179.0</td>\n",
       "      <td>71.0</td>\n",
       "      <td>13.0</td>\n",
       "      <td>100.0</td>\n",
       "      <td>40.5</td>\n",
       "      <td>71.0</td>\n",
       "    </tr>\n",
       "    <tr>\n",
       "      <th>4</th>\n",
       "      <td>17771927</td>\n",
       "      <td>female</td>\n",
       "      <td>27</td>\n",
       "      <td>154.0</td>\n",
       "      <td>58.0</td>\n",
       "      <td>10.0</td>\n",
       "      <td>81.0</td>\n",
       "      <td>39.8</td>\n",
       "      <td>35.0</td>\n",
       "    </tr>\n",
       "  </tbody>\n",
       "</table>\n",
       "</div>"
      ],
      "text/plain": [
       "    User_ID  Gender  Age  Height  Weight  Duration  Heart_Rate  Body_Temp  \\\n",
       "0  14733363    male   68   190.0    94.0      29.0       105.0       40.8   \n",
       "1  14861698  female   20   166.0    60.0      14.0        94.0       40.3   \n",
       "2  11179863    male   69   179.0    79.0       5.0        88.0       38.7   \n",
       "3  16180408  female   34   179.0    71.0      13.0       100.0       40.5   \n",
       "4  17771927  female   27   154.0    58.0      10.0        81.0       39.8   \n",
       "\n",
       "   Calories  \n",
       "0     231.0  \n",
       "1      66.0  \n",
       "2      26.0  \n",
       "3      71.0  \n",
       "4      35.0  "
      ]
     },
     "execution_count": 3,
     "metadata": {},
     "output_type": "execute_result"
    }
   ],
   "source": [
    "df.head()"
   ]
  },
  {
   "cell_type": "code",
   "execution_count": 4,
   "id": "0a28648a",
   "metadata": {},
   "outputs": [
    {
     "data": {
      "text/html": [
       "<div>\n",
       "<style scoped>\n",
       "    .dataframe tbody tr th:only-of-type {\n",
       "        vertical-align: middle;\n",
       "    }\n",
       "\n",
       "    .dataframe tbody tr th {\n",
       "        vertical-align: top;\n",
       "    }\n",
       "\n",
       "    .dataframe thead th {\n",
       "        text-align: right;\n",
       "    }\n",
       "</style>\n",
       "<table border=\"1\" class=\"dataframe\">\n",
       "  <thead>\n",
       "    <tr style=\"text-align: right;\">\n",
       "      <th></th>\n",
       "      <th>User_ID</th>\n",
       "      <th>Age</th>\n",
       "      <th>Height</th>\n",
       "      <th>Weight</th>\n",
       "      <th>Duration</th>\n",
       "      <th>Heart_Rate</th>\n",
       "      <th>Body_Temp</th>\n",
       "      <th>Calories</th>\n",
       "    </tr>\n",
       "  </thead>\n",
       "  <tbody>\n",
       "    <tr>\n",
       "      <th>count</th>\n",
       "      <td>1.500000e+04</td>\n",
       "      <td>15000.000000</td>\n",
       "      <td>15000.000000</td>\n",
       "      <td>15000.000000</td>\n",
       "      <td>15000.000000</td>\n",
       "      <td>15000.000000</td>\n",
       "      <td>15000.000000</td>\n",
       "      <td>15000.000000</td>\n",
       "    </tr>\n",
       "    <tr>\n",
       "      <th>mean</th>\n",
       "      <td>1.497736e+07</td>\n",
       "      <td>42.789800</td>\n",
       "      <td>174.465133</td>\n",
       "      <td>74.966867</td>\n",
       "      <td>15.530600</td>\n",
       "      <td>95.518533</td>\n",
       "      <td>40.025453</td>\n",
       "      <td>89.539533</td>\n",
       "    </tr>\n",
       "    <tr>\n",
       "      <th>std</th>\n",
       "      <td>2.872851e+06</td>\n",
       "      <td>16.980264</td>\n",
       "      <td>14.258114</td>\n",
       "      <td>15.035657</td>\n",
       "      <td>8.319203</td>\n",
       "      <td>9.583328</td>\n",
       "      <td>0.779230</td>\n",
       "      <td>62.456978</td>\n",
       "    </tr>\n",
       "    <tr>\n",
       "      <th>min</th>\n",
       "      <td>1.000116e+07</td>\n",
       "      <td>20.000000</td>\n",
       "      <td>123.000000</td>\n",
       "      <td>36.000000</td>\n",
       "      <td>1.000000</td>\n",
       "      <td>67.000000</td>\n",
       "      <td>37.100000</td>\n",
       "      <td>1.000000</td>\n",
       "    </tr>\n",
       "    <tr>\n",
       "      <th>25%</th>\n",
       "      <td>1.247419e+07</td>\n",
       "      <td>28.000000</td>\n",
       "      <td>164.000000</td>\n",
       "      <td>63.000000</td>\n",
       "      <td>8.000000</td>\n",
       "      <td>88.000000</td>\n",
       "      <td>39.600000</td>\n",
       "      <td>35.000000</td>\n",
       "    </tr>\n",
       "    <tr>\n",
       "      <th>50%</th>\n",
       "      <td>1.499728e+07</td>\n",
       "      <td>39.000000</td>\n",
       "      <td>175.000000</td>\n",
       "      <td>74.000000</td>\n",
       "      <td>16.000000</td>\n",
       "      <td>96.000000</td>\n",
       "      <td>40.200000</td>\n",
       "      <td>79.000000</td>\n",
       "    </tr>\n",
       "    <tr>\n",
       "      <th>75%</th>\n",
       "      <td>1.744928e+07</td>\n",
       "      <td>56.000000</td>\n",
       "      <td>185.000000</td>\n",
       "      <td>87.000000</td>\n",
       "      <td>23.000000</td>\n",
       "      <td>103.000000</td>\n",
       "      <td>40.600000</td>\n",
       "      <td>138.000000</td>\n",
       "    </tr>\n",
       "    <tr>\n",
       "      <th>max</th>\n",
       "      <td>1.999965e+07</td>\n",
       "      <td>79.000000</td>\n",
       "      <td>222.000000</td>\n",
       "      <td>132.000000</td>\n",
       "      <td>30.000000</td>\n",
       "      <td>128.000000</td>\n",
       "      <td>41.500000</td>\n",
       "      <td>314.000000</td>\n",
       "    </tr>\n",
       "  </tbody>\n",
       "</table>\n",
       "</div>"
      ],
      "text/plain": [
       "            User_ID           Age        Height        Weight      Duration  \\\n",
       "count  1.500000e+04  15000.000000  15000.000000  15000.000000  15000.000000   \n",
       "mean   1.497736e+07     42.789800    174.465133     74.966867     15.530600   \n",
       "std    2.872851e+06     16.980264     14.258114     15.035657      8.319203   \n",
       "min    1.000116e+07     20.000000    123.000000     36.000000      1.000000   \n",
       "25%    1.247419e+07     28.000000    164.000000     63.000000      8.000000   \n",
       "50%    1.499728e+07     39.000000    175.000000     74.000000     16.000000   \n",
       "75%    1.744928e+07     56.000000    185.000000     87.000000     23.000000   \n",
       "max    1.999965e+07     79.000000    222.000000    132.000000     30.000000   \n",
       "\n",
       "         Heart_Rate     Body_Temp      Calories  \n",
       "count  15000.000000  15000.000000  15000.000000  \n",
       "mean      95.518533     40.025453     89.539533  \n",
       "std        9.583328      0.779230     62.456978  \n",
       "min       67.000000     37.100000      1.000000  \n",
       "25%       88.000000     39.600000     35.000000  \n",
       "50%       96.000000     40.200000     79.000000  \n",
       "75%      103.000000     40.600000    138.000000  \n",
       "max      128.000000     41.500000    314.000000  "
      ]
     },
     "execution_count": 4,
     "metadata": {},
     "output_type": "execute_result"
    }
   ],
   "source": [
    "df.describe()"
   ]
  },
  {
   "cell_type": "code",
   "execution_count": 5,
   "id": "909288f3",
   "metadata": {},
   "outputs": [
    {
     "name": "stdout",
     "output_type": "stream",
     "text": [
      "<class 'pandas.core.frame.DataFrame'>\n",
      "RangeIndex: 15000 entries, 0 to 14999\n",
      "Data columns (total 9 columns):\n",
      " #   Column      Non-Null Count  Dtype  \n",
      "---  ------      --------------  -----  \n",
      " 0   User_ID     15000 non-null  int64  \n",
      " 1   Gender      15000 non-null  object \n",
      " 2   Age         15000 non-null  int64  \n",
      " 3   Height      15000 non-null  float64\n",
      " 4   Weight      15000 non-null  float64\n",
      " 5   Duration    15000 non-null  float64\n",
      " 6   Heart_Rate  15000 non-null  float64\n",
      " 7   Body_Temp   15000 non-null  float64\n",
      " 8   Calories    15000 non-null  float64\n",
      "dtypes: float64(6), int64(2), object(1)\n",
      "memory usage: 1.0+ MB\n"
     ]
    }
   ],
   "source": [
    "df.info()"
   ]
  },
  {
   "cell_type": "code",
   "execution_count": 6,
   "id": "cf72d334",
   "metadata": {},
   "outputs": [],
   "source": [
    "new_df = df.drop(columns='User_ID')"
   ]
  },
  {
   "cell_type": "code",
   "execution_count": 7,
   "id": "6abdbde0",
   "metadata": {},
   "outputs": [
    {
     "data": {
      "text/html": [
       "<div>\n",
       "<style scoped>\n",
       "    .dataframe tbody tr th:only-of-type {\n",
       "        vertical-align: middle;\n",
       "    }\n",
       "\n",
       "    .dataframe tbody tr th {\n",
       "        vertical-align: top;\n",
       "    }\n",
       "\n",
       "    .dataframe thead th {\n",
       "        text-align: right;\n",
       "    }\n",
       "</style>\n",
       "<table border=\"1\" class=\"dataframe\">\n",
       "  <thead>\n",
       "    <tr style=\"text-align: right;\">\n",
       "      <th></th>\n",
       "      <th>Gender</th>\n",
       "      <th>Age</th>\n",
       "      <th>Height</th>\n",
       "      <th>Weight</th>\n",
       "      <th>Duration</th>\n",
       "      <th>Heart_Rate</th>\n",
       "      <th>Body_Temp</th>\n",
       "      <th>Calories</th>\n",
       "    </tr>\n",
       "  </thead>\n",
       "  <tbody>\n",
       "    <tr>\n",
       "      <th>0</th>\n",
       "      <td>male</td>\n",
       "      <td>68</td>\n",
       "      <td>190.0</td>\n",
       "      <td>94.0</td>\n",
       "      <td>29.0</td>\n",
       "      <td>105.0</td>\n",
       "      <td>40.8</td>\n",
       "      <td>231.0</td>\n",
       "    </tr>\n",
       "    <tr>\n",
       "      <th>1</th>\n",
       "      <td>female</td>\n",
       "      <td>20</td>\n",
       "      <td>166.0</td>\n",
       "      <td>60.0</td>\n",
       "      <td>14.0</td>\n",
       "      <td>94.0</td>\n",
       "      <td>40.3</td>\n",
       "      <td>66.0</td>\n",
       "    </tr>\n",
       "    <tr>\n",
       "      <th>2</th>\n",
       "      <td>male</td>\n",
       "      <td>69</td>\n",
       "      <td>179.0</td>\n",
       "      <td>79.0</td>\n",
       "      <td>5.0</td>\n",
       "      <td>88.0</td>\n",
       "      <td>38.7</td>\n",
       "      <td>26.0</td>\n",
       "    </tr>\n",
       "    <tr>\n",
       "      <th>3</th>\n",
       "      <td>female</td>\n",
       "      <td>34</td>\n",
       "      <td>179.0</td>\n",
       "      <td>71.0</td>\n",
       "      <td>13.0</td>\n",
       "      <td>100.0</td>\n",
       "      <td>40.5</td>\n",
       "      <td>71.0</td>\n",
       "    </tr>\n",
       "    <tr>\n",
       "      <th>4</th>\n",
       "      <td>female</td>\n",
       "      <td>27</td>\n",
       "      <td>154.0</td>\n",
       "      <td>58.0</td>\n",
       "      <td>10.0</td>\n",
       "      <td>81.0</td>\n",
       "      <td>39.8</td>\n",
       "      <td>35.0</td>\n",
       "    </tr>\n",
       "  </tbody>\n",
       "</table>\n",
       "</div>"
      ],
      "text/plain": [
       "   Gender  Age  Height  Weight  Duration  Heart_Rate  Body_Temp  Calories\n",
       "0    male   68   190.0    94.0      29.0       105.0       40.8     231.0\n",
       "1  female   20   166.0    60.0      14.0        94.0       40.3      66.0\n",
       "2    male   69   179.0    79.0       5.0        88.0       38.7      26.0\n",
       "3  female   34   179.0    71.0      13.0       100.0       40.5      71.0\n",
       "4  female   27   154.0    58.0      10.0        81.0       39.8      35.0"
      ]
     },
     "execution_count": 7,
     "metadata": {},
     "output_type": "execute_result"
    }
   ],
   "source": [
    "new_df.head()"
   ]
  },
  {
   "cell_type": "code",
   "execution_count": null,
   "id": "81dd7f12",
   "metadata": {},
   "outputs": [],
   "source": []
  },
  {
   "cell_type": "code",
   "execution_count": null,
   "id": "ed5a438f",
   "metadata": {},
   "outputs": [],
   "source": []
  },
  {
   "cell_type": "code",
   "execution_count": 8,
   "id": "16ae7616",
   "metadata": {},
   "outputs": [
    {
     "data": {
      "text/plain": [
       "Index(['Gender', 'Age', 'Height', 'Weight', 'Duration', 'Heart_Rate',\n",
       "       'Body_Temp', 'Calories'],\n",
       "      dtype='object')"
      ]
     },
     "execution_count": 8,
     "metadata": {},
     "output_type": "execute_result"
    }
   ],
   "source": [
    "new_df.columns"
   ]
  },
  {
   "cell_type": "code",
   "execution_count": 9,
   "id": "e84ab77d",
   "metadata": {},
   "outputs": [
    {
     "data": {
      "text/html": [
       "<div>\n",
       "<style scoped>\n",
       "    .dataframe tbody tr th:only-of-type {\n",
       "        vertical-align: middle;\n",
       "    }\n",
       "\n",
       "    .dataframe tbody tr th {\n",
       "        vertical-align: top;\n",
       "    }\n",
       "\n",
       "    .dataframe thead th {\n",
       "        text-align: right;\n",
       "    }\n",
       "</style>\n",
       "<table border=\"1\" class=\"dataframe\">\n",
       "  <thead>\n",
       "    <tr style=\"text-align: right;\">\n",
       "      <th></th>\n",
       "      <th>Gender</th>\n",
       "      <th>Age</th>\n",
       "      <th>Height</th>\n",
       "      <th>Weight</th>\n",
       "      <th>Duration</th>\n",
       "      <th>Heart_Rate</th>\n",
       "      <th>Body_Temp</th>\n",
       "      <th>Calories</th>\n",
       "    </tr>\n",
       "  </thead>\n",
       "  <tbody>\n",
       "    <tr>\n",
       "      <th>428</th>\n",
       "      <td>male</td>\n",
       "      <td>75</td>\n",
       "      <td>199.0</td>\n",
       "      <td>103.0</td>\n",
       "      <td>28.0</td>\n",
       "      <td>123.0</td>\n",
       "      <td>40.5</td>\n",
       "      <td>314.0</td>\n",
       "    </tr>\n",
       "    <tr>\n",
       "      <th>6240</th>\n",
       "      <td>male</td>\n",
       "      <td>69</td>\n",
       "      <td>193.0</td>\n",
       "      <td>90.0</td>\n",
       "      <td>29.0</td>\n",
       "      <td>121.0</td>\n",
       "      <td>41.1</td>\n",
       "      <td>300.0</td>\n",
       "    </tr>\n",
       "  </tbody>\n",
       "</table>\n",
       "</div>"
      ],
      "text/plain": [
       "     Gender  Age  Height  Weight  Duration  Heart_Rate  Body_Temp  Calories\n",
       "428    male   75   199.0   103.0      28.0       123.0       40.5     314.0\n",
       "6240   male   69   193.0    90.0      29.0       121.0       41.1     300.0"
      ]
     },
     "execution_count": 9,
     "metadata": {},
     "output_type": "execute_result"
    }
   ],
   "source": [
    "new_df[(new_df['Calories'] == 314) | (new_df['Calories']==300)]"
   ]
  },
  {
   "cell_type": "code",
   "execution_count": 10,
   "id": "09789403",
   "metadata": {},
   "outputs": [
    {
     "data": {
      "text/html": [
       "<div>\n",
       "<style scoped>\n",
       "    .dataframe tbody tr th:only-of-type {\n",
       "        vertical-align: middle;\n",
       "    }\n",
       "\n",
       "    .dataframe tbody tr th {\n",
       "        vertical-align: top;\n",
       "    }\n",
       "\n",
       "    .dataframe thead th {\n",
       "        text-align: right;\n",
       "    }\n",
       "</style>\n",
       "<table border=\"1\" class=\"dataframe\">\n",
       "  <thead>\n",
       "    <tr style=\"text-align: right;\">\n",
       "      <th></th>\n",
       "      <th>Gender</th>\n",
       "      <th>Age</th>\n",
       "      <th>Height</th>\n",
       "      <th>Weight</th>\n",
       "      <th>Duration</th>\n",
       "      <th>Heart_Rate</th>\n",
       "      <th>Body_Temp</th>\n",
       "      <th>Calories</th>\n",
       "    </tr>\n",
       "  </thead>\n",
       "  <tbody>\n",
       "    <tr>\n",
       "      <th>0</th>\n",
       "      <td>male</td>\n",
       "      <td>68</td>\n",
       "      <td>1.90</td>\n",
       "      <td>94.0</td>\n",
       "      <td>29.0</td>\n",
       "      <td>105.0</td>\n",
       "      <td>40.8</td>\n",
       "      <td>231.0</td>\n",
       "    </tr>\n",
       "    <tr>\n",
       "      <th>1</th>\n",
       "      <td>female</td>\n",
       "      <td>20</td>\n",
       "      <td>1.66</td>\n",
       "      <td>60.0</td>\n",
       "      <td>14.0</td>\n",
       "      <td>94.0</td>\n",
       "      <td>40.3</td>\n",
       "      <td>66.0</td>\n",
       "    </tr>\n",
       "    <tr>\n",
       "      <th>2</th>\n",
       "      <td>male</td>\n",
       "      <td>69</td>\n",
       "      <td>1.79</td>\n",
       "      <td>79.0</td>\n",
       "      <td>5.0</td>\n",
       "      <td>88.0</td>\n",
       "      <td>38.7</td>\n",
       "      <td>26.0</td>\n",
       "    </tr>\n",
       "    <tr>\n",
       "      <th>3</th>\n",
       "      <td>female</td>\n",
       "      <td>34</td>\n",
       "      <td>1.79</td>\n",
       "      <td>71.0</td>\n",
       "      <td>13.0</td>\n",
       "      <td>100.0</td>\n",
       "      <td>40.5</td>\n",
       "      <td>71.0</td>\n",
       "    </tr>\n",
       "    <tr>\n",
       "      <th>4</th>\n",
       "      <td>female</td>\n",
       "      <td>27</td>\n",
       "      <td>1.54</td>\n",
       "      <td>58.0</td>\n",
       "      <td>10.0</td>\n",
       "      <td>81.0</td>\n",
       "      <td>39.8</td>\n",
       "      <td>35.0</td>\n",
       "    </tr>\n",
       "    <tr>\n",
       "      <th>...</th>\n",
       "      <td>...</td>\n",
       "      <td>...</td>\n",
       "      <td>...</td>\n",
       "      <td>...</td>\n",
       "      <td>...</td>\n",
       "      <td>...</td>\n",
       "      <td>...</td>\n",
       "      <td>...</td>\n",
       "    </tr>\n",
       "    <tr>\n",
       "      <th>14995</th>\n",
       "      <td>female</td>\n",
       "      <td>20</td>\n",
       "      <td>1.93</td>\n",
       "      <td>86.0</td>\n",
       "      <td>11.0</td>\n",
       "      <td>92.0</td>\n",
       "      <td>40.4</td>\n",
       "      <td>45.0</td>\n",
       "    </tr>\n",
       "    <tr>\n",
       "      <th>14996</th>\n",
       "      <td>female</td>\n",
       "      <td>27</td>\n",
       "      <td>1.65</td>\n",
       "      <td>65.0</td>\n",
       "      <td>6.0</td>\n",
       "      <td>85.0</td>\n",
       "      <td>39.2</td>\n",
       "      <td>23.0</td>\n",
       "    </tr>\n",
       "    <tr>\n",
       "      <th>14997</th>\n",
       "      <td>female</td>\n",
       "      <td>43</td>\n",
       "      <td>1.59</td>\n",
       "      <td>58.0</td>\n",
       "      <td>16.0</td>\n",
       "      <td>90.0</td>\n",
       "      <td>40.1</td>\n",
       "      <td>75.0</td>\n",
       "    </tr>\n",
       "    <tr>\n",
       "      <th>14998</th>\n",
       "      <td>male</td>\n",
       "      <td>78</td>\n",
       "      <td>1.93</td>\n",
       "      <td>97.0</td>\n",
       "      <td>2.0</td>\n",
       "      <td>84.0</td>\n",
       "      <td>38.3</td>\n",
       "      <td>11.0</td>\n",
       "    </tr>\n",
       "    <tr>\n",
       "      <th>14999</th>\n",
       "      <td>male</td>\n",
       "      <td>63</td>\n",
       "      <td>1.73</td>\n",
       "      <td>79.0</td>\n",
       "      <td>18.0</td>\n",
       "      <td>92.0</td>\n",
       "      <td>40.5</td>\n",
       "      <td>98.0</td>\n",
       "    </tr>\n",
       "  </tbody>\n",
       "</table>\n",
       "<p>15000 rows × 8 columns</p>\n",
       "</div>"
      ],
      "text/plain": [
       "       Gender  Age  Height  Weight  Duration  Heart_Rate  Body_Temp  Calories\n",
       "0        male   68    1.90    94.0      29.0       105.0       40.8     231.0\n",
       "1      female   20    1.66    60.0      14.0        94.0       40.3      66.0\n",
       "2        male   69    1.79    79.0       5.0        88.0       38.7      26.0\n",
       "3      female   34    1.79    71.0      13.0       100.0       40.5      71.0\n",
       "4      female   27    1.54    58.0      10.0        81.0       39.8      35.0\n",
       "...       ...  ...     ...     ...       ...         ...        ...       ...\n",
       "14995  female   20    1.93    86.0      11.0        92.0       40.4      45.0\n",
       "14996  female   27    1.65    65.0       6.0        85.0       39.2      23.0\n",
       "14997  female   43    1.59    58.0      16.0        90.0       40.1      75.0\n",
       "14998    male   78    1.93    97.0       2.0        84.0       38.3      11.0\n",
       "14999    male   63    1.73    79.0      18.0        92.0       40.5      98.0\n",
       "\n",
       "[15000 rows x 8 columns]"
      ]
     },
     "execution_count": 10,
     "metadata": {},
     "output_type": "execute_result"
    }
   ],
   "source": [
    "new_df['Height'] = new_df['Height'] / 100\n",
    "\n",
    "\n",
    "new_df"
   ]
  },
  {
   "cell_type": "code",
   "execution_count": 11,
   "id": "76a1f668",
   "metadata": {},
   "outputs": [
    {
     "data": {
      "text/html": [
       "<div>\n",
       "<style scoped>\n",
       "    .dataframe tbody tr th:only-of-type {\n",
       "        vertical-align: middle;\n",
       "    }\n",
       "\n",
       "    .dataframe tbody tr th {\n",
       "        vertical-align: top;\n",
       "    }\n",
       "\n",
       "    .dataframe thead th {\n",
       "        text-align: right;\n",
       "    }\n",
       "</style>\n",
       "<table border=\"1\" class=\"dataframe\">\n",
       "  <thead>\n",
       "    <tr style=\"text-align: right;\">\n",
       "      <th></th>\n",
       "      <th>Gender</th>\n",
       "      <th>Age</th>\n",
       "      <th>Height</th>\n",
       "      <th>Weight</th>\n",
       "      <th>Duration</th>\n",
       "      <th>Heart_Rate</th>\n",
       "      <th>Body_Temp</th>\n",
       "      <th>Calories</th>\n",
       "      <th>BMI</th>\n",
       "    </tr>\n",
       "  </thead>\n",
       "  <tbody>\n",
       "    <tr>\n",
       "      <th>0</th>\n",
       "      <td>male</td>\n",
       "      <td>68</td>\n",
       "      <td>1.90</td>\n",
       "      <td>94.0</td>\n",
       "      <td>29.0</td>\n",
       "      <td>105.0</td>\n",
       "      <td>40.8</td>\n",
       "      <td>231.0</td>\n",
       "      <td>26.038781</td>\n",
       "    </tr>\n",
       "    <tr>\n",
       "      <th>1</th>\n",
       "      <td>female</td>\n",
       "      <td>20</td>\n",
       "      <td>1.66</td>\n",
       "      <td>60.0</td>\n",
       "      <td>14.0</td>\n",
       "      <td>94.0</td>\n",
       "      <td>40.3</td>\n",
       "      <td>66.0</td>\n",
       "      <td>21.773842</td>\n",
       "    </tr>\n",
       "    <tr>\n",
       "      <th>2</th>\n",
       "      <td>male</td>\n",
       "      <td>69</td>\n",
       "      <td>1.79</td>\n",
       "      <td>79.0</td>\n",
       "      <td>5.0</td>\n",
       "      <td>88.0</td>\n",
       "      <td>38.7</td>\n",
       "      <td>26.0</td>\n",
       "      <td>24.655910</td>\n",
       "    </tr>\n",
       "    <tr>\n",
       "      <th>3</th>\n",
       "      <td>female</td>\n",
       "      <td>34</td>\n",
       "      <td>1.79</td>\n",
       "      <td>71.0</td>\n",
       "      <td>13.0</td>\n",
       "      <td>100.0</td>\n",
       "      <td>40.5</td>\n",
       "      <td>71.0</td>\n",
       "      <td>22.159109</td>\n",
       "    </tr>\n",
       "    <tr>\n",
       "      <th>4</th>\n",
       "      <td>female</td>\n",
       "      <td>27</td>\n",
       "      <td>1.54</td>\n",
       "      <td>58.0</td>\n",
       "      <td>10.0</td>\n",
       "      <td>81.0</td>\n",
       "      <td>39.8</td>\n",
       "      <td>35.0</td>\n",
       "      <td>24.456063</td>\n",
       "    </tr>\n",
       "    <tr>\n",
       "      <th>...</th>\n",
       "      <td>...</td>\n",
       "      <td>...</td>\n",
       "      <td>...</td>\n",
       "      <td>...</td>\n",
       "      <td>...</td>\n",
       "      <td>...</td>\n",
       "      <td>...</td>\n",
       "      <td>...</td>\n",
       "      <td>...</td>\n",
       "    </tr>\n",
       "    <tr>\n",
       "      <th>14995</th>\n",
       "      <td>female</td>\n",
       "      <td>20</td>\n",
       "      <td>1.93</td>\n",
       "      <td>86.0</td>\n",
       "      <td>11.0</td>\n",
       "      <td>92.0</td>\n",
       "      <td>40.4</td>\n",
       "      <td>45.0</td>\n",
       "      <td>23.087868</td>\n",
       "    </tr>\n",
       "    <tr>\n",
       "      <th>14996</th>\n",
       "      <td>female</td>\n",
       "      <td>27</td>\n",
       "      <td>1.65</td>\n",
       "      <td>65.0</td>\n",
       "      <td>6.0</td>\n",
       "      <td>85.0</td>\n",
       "      <td>39.2</td>\n",
       "      <td>23.0</td>\n",
       "      <td>23.875115</td>\n",
       "    </tr>\n",
       "    <tr>\n",
       "      <th>14997</th>\n",
       "      <td>female</td>\n",
       "      <td>43</td>\n",
       "      <td>1.59</td>\n",
       "      <td>58.0</td>\n",
       "      <td>16.0</td>\n",
       "      <td>90.0</td>\n",
       "      <td>40.1</td>\n",
       "      <td>75.0</td>\n",
       "      <td>22.942130</td>\n",
       "    </tr>\n",
       "    <tr>\n",
       "      <th>14998</th>\n",
       "      <td>male</td>\n",
       "      <td>78</td>\n",
       "      <td>1.93</td>\n",
       "      <td>97.0</td>\n",
       "      <td>2.0</td>\n",
       "      <td>84.0</td>\n",
       "      <td>38.3</td>\n",
       "      <td>11.0</td>\n",
       "      <td>26.040968</td>\n",
       "    </tr>\n",
       "    <tr>\n",
       "      <th>14999</th>\n",
       "      <td>male</td>\n",
       "      <td>63</td>\n",
       "      <td>1.73</td>\n",
       "      <td>79.0</td>\n",
       "      <td>18.0</td>\n",
       "      <td>92.0</td>\n",
       "      <td>40.5</td>\n",
       "      <td>98.0</td>\n",
       "      <td>26.395803</td>\n",
       "    </tr>\n",
       "  </tbody>\n",
       "</table>\n",
       "<p>15000 rows × 9 columns</p>\n",
       "</div>"
      ],
      "text/plain": [
       "       Gender  Age  Height  Weight  Duration  Heart_Rate  Body_Temp  Calories  \\\n",
       "0        male   68    1.90    94.0      29.0       105.0       40.8     231.0   \n",
       "1      female   20    1.66    60.0      14.0        94.0       40.3      66.0   \n",
       "2        male   69    1.79    79.0       5.0        88.0       38.7      26.0   \n",
       "3      female   34    1.79    71.0      13.0       100.0       40.5      71.0   \n",
       "4      female   27    1.54    58.0      10.0        81.0       39.8      35.0   \n",
       "...       ...  ...     ...     ...       ...         ...        ...       ...   \n",
       "14995  female   20    1.93    86.0      11.0        92.0       40.4      45.0   \n",
       "14996  female   27    1.65    65.0       6.0        85.0       39.2      23.0   \n",
       "14997  female   43    1.59    58.0      16.0        90.0       40.1      75.0   \n",
       "14998    male   78    1.93    97.0       2.0        84.0       38.3      11.0   \n",
       "14999    male   63    1.73    79.0      18.0        92.0       40.5      98.0   \n",
       "\n",
       "             BMI  \n",
       "0      26.038781  \n",
       "1      21.773842  \n",
       "2      24.655910  \n",
       "3      22.159109  \n",
       "4      24.456063  \n",
       "...          ...  \n",
       "14995  23.087868  \n",
       "14996  23.875115  \n",
       "14997  22.942130  \n",
       "14998  26.040968  \n",
       "14999  26.395803  \n",
       "\n",
       "[15000 rows x 9 columns]"
      ]
     },
     "execution_count": 11,
     "metadata": {},
     "output_type": "execute_result"
    }
   ],
   "source": [
    "new_df['BMI'] = new_df['Weight']/(new_df['Height'])**2\n",
    "new_df"
   ]
  },
  {
   "cell_type": "code",
   "execution_count": 12,
   "id": "7dccc953",
   "metadata": {},
   "outputs": [
    {
     "data": {
      "text/html": [
       "<div>\n",
       "<style scoped>\n",
       "    .dataframe tbody tr th:only-of-type {\n",
       "        vertical-align: middle;\n",
       "    }\n",
       "\n",
       "    .dataframe tbody tr th {\n",
       "        vertical-align: top;\n",
       "    }\n",
       "\n",
       "    .dataframe thead th {\n",
       "        text-align: right;\n",
       "    }\n",
       "</style>\n",
       "<table border=\"1\" class=\"dataframe\">\n",
       "  <thead>\n",
       "    <tr style=\"text-align: right;\">\n",
       "      <th></th>\n",
       "      <th>Gender</th>\n",
       "      <th>Age</th>\n",
       "      <th>Duration</th>\n",
       "      <th>Heart_Rate</th>\n",
       "      <th>Body_Temp</th>\n",
       "      <th>Calories</th>\n",
       "      <th>BMI</th>\n",
       "    </tr>\n",
       "  </thead>\n",
       "  <tbody>\n",
       "    <tr>\n",
       "      <th>0</th>\n",
       "      <td>male</td>\n",
       "      <td>68</td>\n",
       "      <td>29.0</td>\n",
       "      <td>105.0</td>\n",
       "      <td>40.8</td>\n",
       "      <td>231.0</td>\n",
       "      <td>26.038781</td>\n",
       "    </tr>\n",
       "    <tr>\n",
       "      <th>1</th>\n",
       "      <td>female</td>\n",
       "      <td>20</td>\n",
       "      <td>14.0</td>\n",
       "      <td>94.0</td>\n",
       "      <td>40.3</td>\n",
       "      <td>66.0</td>\n",
       "      <td>21.773842</td>\n",
       "    </tr>\n",
       "    <tr>\n",
       "      <th>2</th>\n",
       "      <td>male</td>\n",
       "      <td>69</td>\n",
       "      <td>5.0</td>\n",
       "      <td>88.0</td>\n",
       "      <td>38.7</td>\n",
       "      <td>26.0</td>\n",
       "      <td>24.655910</td>\n",
       "    </tr>\n",
       "    <tr>\n",
       "      <th>3</th>\n",
       "      <td>female</td>\n",
       "      <td>34</td>\n",
       "      <td>13.0</td>\n",
       "      <td>100.0</td>\n",
       "      <td>40.5</td>\n",
       "      <td>71.0</td>\n",
       "      <td>22.159109</td>\n",
       "    </tr>\n",
       "    <tr>\n",
       "      <th>4</th>\n",
       "      <td>female</td>\n",
       "      <td>27</td>\n",
       "      <td>10.0</td>\n",
       "      <td>81.0</td>\n",
       "      <td>39.8</td>\n",
       "      <td>35.0</td>\n",
       "      <td>24.456063</td>\n",
       "    </tr>\n",
       "    <tr>\n",
       "      <th>...</th>\n",
       "      <td>...</td>\n",
       "      <td>...</td>\n",
       "      <td>...</td>\n",
       "      <td>...</td>\n",
       "      <td>...</td>\n",
       "      <td>...</td>\n",
       "      <td>...</td>\n",
       "    </tr>\n",
       "    <tr>\n",
       "      <th>14995</th>\n",
       "      <td>female</td>\n",
       "      <td>20</td>\n",
       "      <td>11.0</td>\n",
       "      <td>92.0</td>\n",
       "      <td>40.4</td>\n",
       "      <td>45.0</td>\n",
       "      <td>23.087868</td>\n",
       "    </tr>\n",
       "    <tr>\n",
       "      <th>14996</th>\n",
       "      <td>female</td>\n",
       "      <td>27</td>\n",
       "      <td>6.0</td>\n",
       "      <td>85.0</td>\n",
       "      <td>39.2</td>\n",
       "      <td>23.0</td>\n",
       "      <td>23.875115</td>\n",
       "    </tr>\n",
       "    <tr>\n",
       "      <th>14997</th>\n",
       "      <td>female</td>\n",
       "      <td>43</td>\n",
       "      <td>16.0</td>\n",
       "      <td>90.0</td>\n",
       "      <td>40.1</td>\n",
       "      <td>75.0</td>\n",
       "      <td>22.942130</td>\n",
       "    </tr>\n",
       "    <tr>\n",
       "      <th>14998</th>\n",
       "      <td>male</td>\n",
       "      <td>78</td>\n",
       "      <td>2.0</td>\n",
       "      <td>84.0</td>\n",
       "      <td>38.3</td>\n",
       "      <td>11.0</td>\n",
       "      <td>26.040968</td>\n",
       "    </tr>\n",
       "    <tr>\n",
       "      <th>14999</th>\n",
       "      <td>male</td>\n",
       "      <td>63</td>\n",
       "      <td>18.0</td>\n",
       "      <td>92.0</td>\n",
       "      <td>40.5</td>\n",
       "      <td>98.0</td>\n",
       "      <td>26.395803</td>\n",
       "    </tr>\n",
       "  </tbody>\n",
       "</table>\n",
       "<p>15000 rows × 7 columns</p>\n",
       "</div>"
      ],
      "text/plain": [
       "       Gender  Age  Duration  Heart_Rate  Body_Temp  Calories        BMI\n",
       "0        male   68      29.0       105.0       40.8     231.0  26.038781\n",
       "1      female   20      14.0        94.0       40.3      66.0  21.773842\n",
       "2        male   69       5.0        88.0       38.7      26.0  24.655910\n",
       "3      female   34      13.0       100.0       40.5      71.0  22.159109\n",
       "4      female   27      10.0        81.0       39.8      35.0  24.456063\n",
       "...       ...  ...       ...         ...        ...       ...        ...\n",
       "14995  female   20      11.0        92.0       40.4      45.0  23.087868\n",
       "14996  female   27       6.0        85.0       39.2      23.0  23.875115\n",
       "14997  female   43      16.0        90.0       40.1      75.0  22.942130\n",
       "14998    male   78       2.0        84.0       38.3      11.0  26.040968\n",
       "14999    male   63      18.0        92.0       40.5      98.0  26.395803\n",
       "\n",
       "[15000 rows x 7 columns]"
      ]
     },
     "execution_count": 12,
     "metadata": {},
     "output_type": "execute_result"
    }
   ],
   "source": [
    "new_df = new_df.drop(columns=['Height','Weight'])\n",
    "new_df"
   ]
  },
  {
   "cell_type": "code",
   "execution_count": 13,
   "id": "a3bdc3bd",
   "metadata": {},
   "outputs": [],
   "source": [
    "new_df['Gender'] = new_df['Gender'].map({'male': 0, 'female': 1})\n"
   ]
  },
  {
   "cell_type": "code",
   "execution_count": 14,
   "id": "ca89b603",
   "metadata": {},
   "outputs": [
    {
     "data": {
      "text/html": [
       "<div>\n",
       "<style scoped>\n",
       "    .dataframe tbody tr th:only-of-type {\n",
       "        vertical-align: middle;\n",
       "    }\n",
       "\n",
       "    .dataframe tbody tr th {\n",
       "        vertical-align: top;\n",
       "    }\n",
       "\n",
       "    .dataframe thead th {\n",
       "        text-align: right;\n",
       "    }\n",
       "</style>\n",
       "<table border=\"1\" class=\"dataframe\">\n",
       "  <thead>\n",
       "    <tr style=\"text-align: right;\">\n",
       "      <th></th>\n",
       "      <th>Gender</th>\n",
       "      <th>Age</th>\n",
       "      <th>Duration</th>\n",
       "      <th>Heart_Rate</th>\n",
       "      <th>Body_Temp</th>\n",
       "      <th>Calories</th>\n",
       "      <th>BMI</th>\n",
       "    </tr>\n",
       "  </thead>\n",
       "  <tbody>\n",
       "    <tr>\n",
       "      <th>0</th>\n",
       "      <td>0</td>\n",
       "      <td>68</td>\n",
       "      <td>29.0</td>\n",
       "      <td>105.0</td>\n",
       "      <td>40.8</td>\n",
       "      <td>231.0</td>\n",
       "      <td>26.038781</td>\n",
       "    </tr>\n",
       "    <tr>\n",
       "      <th>1</th>\n",
       "      <td>1</td>\n",
       "      <td>20</td>\n",
       "      <td>14.0</td>\n",
       "      <td>94.0</td>\n",
       "      <td>40.3</td>\n",
       "      <td>66.0</td>\n",
       "      <td>21.773842</td>\n",
       "    </tr>\n",
       "    <tr>\n",
       "      <th>2</th>\n",
       "      <td>0</td>\n",
       "      <td>69</td>\n",
       "      <td>5.0</td>\n",
       "      <td>88.0</td>\n",
       "      <td>38.7</td>\n",
       "      <td>26.0</td>\n",
       "      <td>24.655910</td>\n",
       "    </tr>\n",
       "    <tr>\n",
       "      <th>3</th>\n",
       "      <td>1</td>\n",
       "      <td>34</td>\n",
       "      <td>13.0</td>\n",
       "      <td>100.0</td>\n",
       "      <td>40.5</td>\n",
       "      <td>71.0</td>\n",
       "      <td>22.159109</td>\n",
       "    </tr>\n",
       "    <tr>\n",
       "      <th>4</th>\n",
       "      <td>1</td>\n",
       "      <td>27</td>\n",
       "      <td>10.0</td>\n",
       "      <td>81.0</td>\n",
       "      <td>39.8</td>\n",
       "      <td>35.0</td>\n",
       "      <td>24.456063</td>\n",
       "    </tr>\n",
       "    <tr>\n",
       "      <th>...</th>\n",
       "      <td>...</td>\n",
       "      <td>...</td>\n",
       "      <td>...</td>\n",
       "      <td>...</td>\n",
       "      <td>...</td>\n",
       "      <td>...</td>\n",
       "      <td>...</td>\n",
       "    </tr>\n",
       "    <tr>\n",
       "      <th>14995</th>\n",
       "      <td>1</td>\n",
       "      <td>20</td>\n",
       "      <td>11.0</td>\n",
       "      <td>92.0</td>\n",
       "      <td>40.4</td>\n",
       "      <td>45.0</td>\n",
       "      <td>23.087868</td>\n",
       "    </tr>\n",
       "    <tr>\n",
       "      <th>14996</th>\n",
       "      <td>1</td>\n",
       "      <td>27</td>\n",
       "      <td>6.0</td>\n",
       "      <td>85.0</td>\n",
       "      <td>39.2</td>\n",
       "      <td>23.0</td>\n",
       "      <td>23.875115</td>\n",
       "    </tr>\n",
       "    <tr>\n",
       "      <th>14997</th>\n",
       "      <td>1</td>\n",
       "      <td>43</td>\n",
       "      <td>16.0</td>\n",
       "      <td>90.0</td>\n",
       "      <td>40.1</td>\n",
       "      <td>75.0</td>\n",
       "      <td>22.942130</td>\n",
       "    </tr>\n",
       "    <tr>\n",
       "      <th>14998</th>\n",
       "      <td>0</td>\n",
       "      <td>78</td>\n",
       "      <td>2.0</td>\n",
       "      <td>84.0</td>\n",
       "      <td>38.3</td>\n",
       "      <td>11.0</td>\n",
       "      <td>26.040968</td>\n",
       "    </tr>\n",
       "    <tr>\n",
       "      <th>14999</th>\n",
       "      <td>0</td>\n",
       "      <td>63</td>\n",
       "      <td>18.0</td>\n",
       "      <td>92.0</td>\n",
       "      <td>40.5</td>\n",
       "      <td>98.0</td>\n",
       "      <td>26.395803</td>\n",
       "    </tr>\n",
       "  </tbody>\n",
       "</table>\n",
       "<p>15000 rows × 7 columns</p>\n",
       "</div>"
      ],
      "text/plain": [
       "       Gender  Age  Duration  Heart_Rate  Body_Temp  Calories        BMI\n",
       "0           0   68      29.0       105.0       40.8     231.0  26.038781\n",
       "1           1   20      14.0        94.0       40.3      66.0  21.773842\n",
       "2           0   69       5.0        88.0       38.7      26.0  24.655910\n",
       "3           1   34      13.0       100.0       40.5      71.0  22.159109\n",
       "4           1   27      10.0        81.0       39.8      35.0  24.456063\n",
       "...       ...  ...       ...         ...        ...       ...        ...\n",
       "14995       1   20      11.0        92.0       40.4      45.0  23.087868\n",
       "14996       1   27       6.0        85.0       39.2      23.0  23.875115\n",
       "14997       1   43      16.0        90.0       40.1      75.0  22.942130\n",
       "14998       0   78       2.0        84.0       38.3      11.0  26.040968\n",
       "14999       0   63      18.0        92.0       40.5      98.0  26.395803\n",
       "\n",
       "[15000 rows x 7 columns]"
      ]
     },
     "execution_count": 14,
     "metadata": {},
     "output_type": "execute_result"
    }
   ],
   "source": [
    "new_df"
   ]
  },
  {
   "cell_type": "code",
   "execution_count": null,
   "id": "9254e6d7",
   "metadata": {},
   "outputs": [],
   "source": []
  },
  {
   "cell_type": "code",
   "execution_count": 15,
   "id": "a3de18ce",
   "metadata": {},
   "outputs": [
    {
     "data": {
      "text/html": [
       "<div>\n",
       "<style scoped>\n",
       "    .dataframe tbody tr th:only-of-type {\n",
       "        vertical-align: middle;\n",
       "    }\n",
       "\n",
       "    .dataframe tbody tr th {\n",
       "        vertical-align: top;\n",
       "    }\n",
       "\n",
       "    .dataframe thead th {\n",
       "        text-align: right;\n",
       "    }\n",
       "</style>\n",
       "<table border=\"1\" class=\"dataframe\">\n",
       "  <thead>\n",
       "    <tr style=\"text-align: right;\">\n",
       "      <th></th>\n",
       "      <th>Gender</th>\n",
       "      <th>Age</th>\n",
       "      <th>Duration</th>\n",
       "      <th>Heart_Rate</th>\n",
       "      <th>Body_Temp</th>\n",
       "      <th>BMI</th>\n",
       "    </tr>\n",
       "  </thead>\n",
       "  <tbody>\n",
       "    <tr>\n",
       "      <th>0</th>\n",
       "      <td>0</td>\n",
       "      <td>68</td>\n",
       "      <td>29.0</td>\n",
       "      <td>105.0</td>\n",
       "      <td>40.8</td>\n",
       "      <td>26.038781</td>\n",
       "    </tr>\n",
       "    <tr>\n",
       "      <th>1</th>\n",
       "      <td>1</td>\n",
       "      <td>20</td>\n",
       "      <td>14.0</td>\n",
       "      <td>94.0</td>\n",
       "      <td>40.3</td>\n",
       "      <td>21.773842</td>\n",
       "    </tr>\n",
       "    <tr>\n",
       "      <th>2</th>\n",
       "      <td>0</td>\n",
       "      <td>69</td>\n",
       "      <td>5.0</td>\n",
       "      <td>88.0</td>\n",
       "      <td>38.7</td>\n",
       "      <td>24.655910</td>\n",
       "    </tr>\n",
       "    <tr>\n",
       "      <th>3</th>\n",
       "      <td>1</td>\n",
       "      <td>34</td>\n",
       "      <td>13.0</td>\n",
       "      <td>100.0</td>\n",
       "      <td>40.5</td>\n",
       "      <td>22.159109</td>\n",
       "    </tr>\n",
       "    <tr>\n",
       "      <th>4</th>\n",
       "      <td>1</td>\n",
       "      <td>27</td>\n",
       "      <td>10.0</td>\n",
       "      <td>81.0</td>\n",
       "      <td>39.8</td>\n",
       "      <td>24.456063</td>\n",
       "    </tr>\n",
       "    <tr>\n",
       "      <th>...</th>\n",
       "      <td>...</td>\n",
       "      <td>...</td>\n",
       "      <td>...</td>\n",
       "      <td>...</td>\n",
       "      <td>...</td>\n",
       "      <td>...</td>\n",
       "    </tr>\n",
       "    <tr>\n",
       "      <th>14995</th>\n",
       "      <td>1</td>\n",
       "      <td>20</td>\n",
       "      <td>11.0</td>\n",
       "      <td>92.0</td>\n",
       "      <td>40.4</td>\n",
       "      <td>23.087868</td>\n",
       "    </tr>\n",
       "    <tr>\n",
       "      <th>14996</th>\n",
       "      <td>1</td>\n",
       "      <td>27</td>\n",
       "      <td>6.0</td>\n",
       "      <td>85.0</td>\n",
       "      <td>39.2</td>\n",
       "      <td>23.875115</td>\n",
       "    </tr>\n",
       "    <tr>\n",
       "      <th>14997</th>\n",
       "      <td>1</td>\n",
       "      <td>43</td>\n",
       "      <td>16.0</td>\n",
       "      <td>90.0</td>\n",
       "      <td>40.1</td>\n",
       "      <td>22.942130</td>\n",
       "    </tr>\n",
       "    <tr>\n",
       "      <th>14998</th>\n",
       "      <td>0</td>\n",
       "      <td>78</td>\n",
       "      <td>2.0</td>\n",
       "      <td>84.0</td>\n",
       "      <td>38.3</td>\n",
       "      <td>26.040968</td>\n",
       "    </tr>\n",
       "    <tr>\n",
       "      <th>14999</th>\n",
       "      <td>0</td>\n",
       "      <td>63</td>\n",
       "      <td>18.0</td>\n",
       "      <td>92.0</td>\n",
       "      <td>40.5</td>\n",
       "      <td>26.395803</td>\n",
       "    </tr>\n",
       "  </tbody>\n",
       "</table>\n",
       "<p>15000 rows × 6 columns</p>\n",
       "</div>"
      ],
      "text/plain": [
       "       Gender  Age  Duration  Heart_Rate  Body_Temp        BMI\n",
       "0           0   68      29.0       105.0       40.8  26.038781\n",
       "1           1   20      14.0        94.0       40.3  21.773842\n",
       "2           0   69       5.0        88.0       38.7  24.655910\n",
       "3           1   34      13.0       100.0       40.5  22.159109\n",
       "4           1   27      10.0        81.0       39.8  24.456063\n",
       "...       ...  ...       ...         ...        ...        ...\n",
       "14995       1   20      11.0        92.0       40.4  23.087868\n",
       "14996       1   27       6.0        85.0       39.2  23.875115\n",
       "14997       1   43      16.0        90.0       40.1  22.942130\n",
       "14998       0   78       2.0        84.0       38.3  26.040968\n",
       "14999       0   63      18.0        92.0       40.5  26.395803\n",
       "\n",
       "[15000 rows x 6 columns]"
      ]
     },
     "execution_count": 15,
     "metadata": {},
     "output_type": "execute_result"
    }
   ],
   "source": [
    "X = new_df[['Gender','Age','Duration','Heart_Rate','Body_Temp','BMI']]\n",
    "X"
   ]
  },
  {
   "cell_type": "code",
   "execution_count": 16,
   "id": "335228e7",
   "metadata": {},
   "outputs": [
    {
     "data": {
      "text/plain": [
       "0        231.0\n",
       "1         66.0\n",
       "2         26.0\n",
       "3         71.0\n",
       "4         35.0\n",
       "         ...  \n",
       "14995     45.0\n",
       "14996     23.0\n",
       "14997     75.0\n",
       "14998     11.0\n",
       "14999     98.0\n",
       "Name: Calories, Length: 15000, dtype: float64"
      ]
     },
     "execution_count": 16,
     "metadata": {},
     "output_type": "execute_result"
    }
   ],
   "source": [
    "y = new_df['Calories']\n",
    "y"
   ]
  },
  {
   "cell_type": "code",
   "execution_count": 17,
   "id": "5896a33a",
   "metadata": {},
   "outputs": [],
   "source": [
    "# from sklearn import neighbors\n",
    "\n",
    "from sklearn.model_selection import train_test_split\n",
    "\n",
    "x_train,x_test,y_train,y_test = train_test_split(X,y,test_size=0.2,random_state=42)\n",
    "\n"
   ]
  },
  {
   "cell_type": "code",
   "execution_count": 18,
   "id": "1fc079e5",
   "metadata": {},
   "outputs": [],
   "source": [
    "from sklearn.linear_model import LinearRegression\n",
    "from sklearn.metrics import mean_squared_error, r2_score\n"
   ]
  },
  {
   "cell_type": "code",
   "execution_count": 19,
   "id": "f3396868",
   "metadata": {},
   "outputs": [
    {
     "data": {
      "text/html": [
       "<style>#sk-container-id-1 {\n",
       "  /* Definition of color scheme common for light and dark mode */\n",
       "  --sklearn-color-text: #000;\n",
       "  --sklearn-color-text-muted: #666;\n",
       "  --sklearn-color-line: gray;\n",
       "  /* Definition of color scheme for unfitted estimators */\n",
       "  --sklearn-color-unfitted-level-0: #fff5e6;\n",
       "  --sklearn-color-unfitted-level-1: #f6e4d2;\n",
       "  --sklearn-color-unfitted-level-2: #ffe0b3;\n",
       "  --sklearn-color-unfitted-level-3: chocolate;\n",
       "  /* Definition of color scheme for fitted estimators */\n",
       "  --sklearn-color-fitted-level-0: #f0f8ff;\n",
       "  --sklearn-color-fitted-level-1: #d4ebff;\n",
       "  --sklearn-color-fitted-level-2: #b3dbfd;\n",
       "  --sklearn-color-fitted-level-3: cornflowerblue;\n",
       "\n",
       "  /* Specific color for light theme */\n",
       "  --sklearn-color-text-on-default-background: var(--sg-text-color, var(--theme-code-foreground, var(--jp-content-font-color1, black)));\n",
       "  --sklearn-color-background: var(--sg-background-color, var(--theme-background, var(--jp-layout-color0, white)));\n",
       "  --sklearn-color-border-box: var(--sg-text-color, var(--theme-code-foreground, var(--jp-content-font-color1, black)));\n",
       "  --sklearn-color-icon: #696969;\n",
       "\n",
       "  @media (prefers-color-scheme: dark) {\n",
       "    /* Redefinition of color scheme for dark theme */\n",
       "    --sklearn-color-text-on-default-background: var(--sg-text-color, var(--theme-code-foreground, var(--jp-content-font-color1, white)));\n",
       "    --sklearn-color-background: var(--sg-background-color, var(--theme-background, var(--jp-layout-color0, #111)));\n",
       "    --sklearn-color-border-box: var(--sg-text-color, var(--theme-code-foreground, var(--jp-content-font-color1, white)));\n",
       "    --sklearn-color-icon: #878787;\n",
       "  }\n",
       "}\n",
       "\n",
       "#sk-container-id-1 {\n",
       "  color: var(--sklearn-color-text);\n",
       "}\n",
       "\n",
       "#sk-container-id-1 pre {\n",
       "  padding: 0;\n",
       "}\n",
       "\n",
       "#sk-container-id-1 input.sk-hidden--visually {\n",
       "  border: 0;\n",
       "  clip: rect(1px 1px 1px 1px);\n",
       "  clip: rect(1px, 1px, 1px, 1px);\n",
       "  height: 1px;\n",
       "  margin: -1px;\n",
       "  overflow: hidden;\n",
       "  padding: 0;\n",
       "  position: absolute;\n",
       "  width: 1px;\n",
       "}\n",
       "\n",
       "#sk-container-id-1 div.sk-dashed-wrapped {\n",
       "  border: 1px dashed var(--sklearn-color-line);\n",
       "  margin: 0 0.4em 0.5em 0.4em;\n",
       "  box-sizing: border-box;\n",
       "  padding-bottom: 0.4em;\n",
       "  background-color: var(--sklearn-color-background);\n",
       "}\n",
       "\n",
       "#sk-container-id-1 div.sk-container {\n",
       "  /* jupyter's `normalize.less` sets `[hidden] { display: none; }`\n",
       "     but bootstrap.min.css set `[hidden] { display: none !important; }`\n",
       "     so we also need the `!important` here to be able to override the\n",
       "     default hidden behavior on the sphinx rendered scikit-learn.org.\n",
       "     See: https://github.com/scikit-learn/scikit-learn/issues/21755 */\n",
       "  display: inline-block !important;\n",
       "  position: relative;\n",
       "}\n",
       "\n",
       "#sk-container-id-1 div.sk-text-repr-fallback {\n",
       "  display: none;\n",
       "}\n",
       "\n",
       "div.sk-parallel-item,\n",
       "div.sk-serial,\n",
       "div.sk-item {\n",
       "  /* draw centered vertical line to link estimators */\n",
       "  background-image: linear-gradient(var(--sklearn-color-text-on-default-background), var(--sklearn-color-text-on-default-background));\n",
       "  background-size: 2px 100%;\n",
       "  background-repeat: no-repeat;\n",
       "  background-position: center center;\n",
       "}\n",
       "\n",
       "/* Parallel-specific style estimator block */\n",
       "\n",
       "#sk-container-id-1 div.sk-parallel-item::after {\n",
       "  content: \"\";\n",
       "  width: 100%;\n",
       "  border-bottom: 2px solid var(--sklearn-color-text-on-default-background);\n",
       "  flex-grow: 1;\n",
       "}\n",
       "\n",
       "#sk-container-id-1 div.sk-parallel {\n",
       "  display: flex;\n",
       "  align-items: stretch;\n",
       "  justify-content: center;\n",
       "  background-color: var(--sklearn-color-background);\n",
       "  position: relative;\n",
       "}\n",
       "\n",
       "#sk-container-id-1 div.sk-parallel-item {\n",
       "  display: flex;\n",
       "  flex-direction: column;\n",
       "}\n",
       "\n",
       "#sk-container-id-1 div.sk-parallel-item:first-child::after {\n",
       "  align-self: flex-end;\n",
       "  width: 50%;\n",
       "}\n",
       "\n",
       "#sk-container-id-1 div.sk-parallel-item:last-child::after {\n",
       "  align-self: flex-start;\n",
       "  width: 50%;\n",
       "}\n",
       "\n",
       "#sk-container-id-1 div.sk-parallel-item:only-child::after {\n",
       "  width: 0;\n",
       "}\n",
       "\n",
       "/* Serial-specific style estimator block */\n",
       "\n",
       "#sk-container-id-1 div.sk-serial {\n",
       "  display: flex;\n",
       "  flex-direction: column;\n",
       "  align-items: center;\n",
       "  background-color: var(--sklearn-color-background);\n",
       "  padding-right: 1em;\n",
       "  padding-left: 1em;\n",
       "}\n",
       "\n",
       "\n",
       "/* Toggleable style: style used for estimator/Pipeline/ColumnTransformer box that is\n",
       "clickable and can be expanded/collapsed.\n",
       "- Pipeline and ColumnTransformer use this feature and define the default style\n",
       "- Estimators will overwrite some part of the style using the `sk-estimator` class\n",
       "*/\n",
       "\n",
       "/* Pipeline and ColumnTransformer style (default) */\n",
       "\n",
       "#sk-container-id-1 div.sk-toggleable {\n",
       "  /* Default theme specific background. It is overwritten whether we have a\n",
       "  specific estimator or a Pipeline/ColumnTransformer */\n",
       "  background-color: var(--sklearn-color-background);\n",
       "}\n",
       "\n",
       "/* Toggleable label */\n",
       "#sk-container-id-1 label.sk-toggleable__label {\n",
       "  cursor: pointer;\n",
       "  display: flex;\n",
       "  width: 100%;\n",
       "  margin-bottom: 0;\n",
       "  padding: 0.5em;\n",
       "  box-sizing: border-box;\n",
       "  text-align: center;\n",
       "  align-items: start;\n",
       "  justify-content: space-between;\n",
       "  gap: 0.5em;\n",
       "}\n",
       "\n",
       "#sk-container-id-1 label.sk-toggleable__label .caption {\n",
       "  font-size: 0.6rem;\n",
       "  font-weight: lighter;\n",
       "  color: var(--sklearn-color-text-muted);\n",
       "}\n",
       "\n",
       "#sk-container-id-1 label.sk-toggleable__label-arrow:before {\n",
       "  /* Arrow on the left of the label */\n",
       "  content: \"▸\";\n",
       "  float: left;\n",
       "  margin-right: 0.25em;\n",
       "  color: var(--sklearn-color-icon);\n",
       "}\n",
       "\n",
       "#sk-container-id-1 label.sk-toggleable__label-arrow:hover:before {\n",
       "  color: var(--sklearn-color-text);\n",
       "}\n",
       "\n",
       "/* Toggleable content - dropdown */\n",
       "\n",
       "#sk-container-id-1 div.sk-toggleable__content {\n",
       "  max-height: 0;\n",
       "  max-width: 0;\n",
       "  overflow: hidden;\n",
       "  text-align: left;\n",
       "  /* unfitted */\n",
       "  background-color: var(--sklearn-color-unfitted-level-0);\n",
       "}\n",
       "\n",
       "#sk-container-id-1 div.sk-toggleable__content.fitted {\n",
       "  /* fitted */\n",
       "  background-color: var(--sklearn-color-fitted-level-0);\n",
       "}\n",
       "\n",
       "#sk-container-id-1 div.sk-toggleable__content pre {\n",
       "  margin: 0.2em;\n",
       "  border-radius: 0.25em;\n",
       "  color: var(--sklearn-color-text);\n",
       "  /* unfitted */\n",
       "  background-color: var(--sklearn-color-unfitted-level-0);\n",
       "}\n",
       "\n",
       "#sk-container-id-1 div.sk-toggleable__content.fitted pre {\n",
       "  /* unfitted */\n",
       "  background-color: var(--sklearn-color-fitted-level-0);\n",
       "}\n",
       "\n",
       "#sk-container-id-1 input.sk-toggleable__control:checked~div.sk-toggleable__content {\n",
       "  /* Expand drop-down */\n",
       "  max-height: 200px;\n",
       "  max-width: 100%;\n",
       "  overflow: auto;\n",
       "}\n",
       "\n",
       "#sk-container-id-1 input.sk-toggleable__control:checked~label.sk-toggleable__label-arrow:before {\n",
       "  content: \"▾\";\n",
       "}\n",
       "\n",
       "/* Pipeline/ColumnTransformer-specific style */\n",
       "\n",
       "#sk-container-id-1 div.sk-label input.sk-toggleable__control:checked~label.sk-toggleable__label {\n",
       "  color: var(--sklearn-color-text);\n",
       "  background-color: var(--sklearn-color-unfitted-level-2);\n",
       "}\n",
       "\n",
       "#sk-container-id-1 div.sk-label.fitted input.sk-toggleable__control:checked~label.sk-toggleable__label {\n",
       "  background-color: var(--sklearn-color-fitted-level-2);\n",
       "}\n",
       "\n",
       "/* Estimator-specific style */\n",
       "\n",
       "/* Colorize estimator box */\n",
       "#sk-container-id-1 div.sk-estimator input.sk-toggleable__control:checked~label.sk-toggleable__label {\n",
       "  /* unfitted */\n",
       "  background-color: var(--sklearn-color-unfitted-level-2);\n",
       "}\n",
       "\n",
       "#sk-container-id-1 div.sk-estimator.fitted input.sk-toggleable__control:checked~label.sk-toggleable__label {\n",
       "  /* fitted */\n",
       "  background-color: var(--sklearn-color-fitted-level-2);\n",
       "}\n",
       "\n",
       "#sk-container-id-1 div.sk-label label.sk-toggleable__label,\n",
       "#sk-container-id-1 div.sk-label label {\n",
       "  /* The background is the default theme color */\n",
       "  color: var(--sklearn-color-text-on-default-background);\n",
       "}\n",
       "\n",
       "/* On hover, darken the color of the background */\n",
       "#sk-container-id-1 div.sk-label:hover label.sk-toggleable__label {\n",
       "  color: var(--sklearn-color-text);\n",
       "  background-color: var(--sklearn-color-unfitted-level-2);\n",
       "}\n",
       "\n",
       "/* Label box, darken color on hover, fitted */\n",
       "#sk-container-id-1 div.sk-label.fitted:hover label.sk-toggleable__label.fitted {\n",
       "  color: var(--sklearn-color-text);\n",
       "  background-color: var(--sklearn-color-fitted-level-2);\n",
       "}\n",
       "\n",
       "/* Estimator label */\n",
       "\n",
       "#sk-container-id-1 div.sk-label label {\n",
       "  font-family: monospace;\n",
       "  font-weight: bold;\n",
       "  display: inline-block;\n",
       "  line-height: 1.2em;\n",
       "}\n",
       "\n",
       "#sk-container-id-1 div.sk-label-container {\n",
       "  text-align: center;\n",
       "}\n",
       "\n",
       "/* Estimator-specific */\n",
       "#sk-container-id-1 div.sk-estimator {\n",
       "  font-family: monospace;\n",
       "  border: 1px dotted var(--sklearn-color-border-box);\n",
       "  border-radius: 0.25em;\n",
       "  box-sizing: border-box;\n",
       "  margin-bottom: 0.5em;\n",
       "  /* unfitted */\n",
       "  background-color: var(--sklearn-color-unfitted-level-0);\n",
       "}\n",
       "\n",
       "#sk-container-id-1 div.sk-estimator.fitted {\n",
       "  /* fitted */\n",
       "  background-color: var(--sklearn-color-fitted-level-0);\n",
       "}\n",
       "\n",
       "/* on hover */\n",
       "#sk-container-id-1 div.sk-estimator:hover {\n",
       "  /* unfitted */\n",
       "  background-color: var(--sklearn-color-unfitted-level-2);\n",
       "}\n",
       "\n",
       "#sk-container-id-1 div.sk-estimator.fitted:hover {\n",
       "  /* fitted */\n",
       "  background-color: var(--sklearn-color-fitted-level-2);\n",
       "}\n",
       "\n",
       "/* Specification for estimator info (e.g. \"i\" and \"?\") */\n",
       "\n",
       "/* Common style for \"i\" and \"?\" */\n",
       "\n",
       ".sk-estimator-doc-link,\n",
       "a:link.sk-estimator-doc-link,\n",
       "a:visited.sk-estimator-doc-link {\n",
       "  float: right;\n",
       "  font-size: smaller;\n",
       "  line-height: 1em;\n",
       "  font-family: monospace;\n",
       "  background-color: var(--sklearn-color-background);\n",
       "  border-radius: 1em;\n",
       "  height: 1em;\n",
       "  width: 1em;\n",
       "  text-decoration: none !important;\n",
       "  margin-left: 0.5em;\n",
       "  text-align: center;\n",
       "  /* unfitted */\n",
       "  border: var(--sklearn-color-unfitted-level-1) 1pt solid;\n",
       "  color: var(--sklearn-color-unfitted-level-1);\n",
       "}\n",
       "\n",
       ".sk-estimator-doc-link.fitted,\n",
       "a:link.sk-estimator-doc-link.fitted,\n",
       "a:visited.sk-estimator-doc-link.fitted {\n",
       "  /* fitted */\n",
       "  border: var(--sklearn-color-fitted-level-1) 1pt solid;\n",
       "  color: var(--sklearn-color-fitted-level-1);\n",
       "}\n",
       "\n",
       "/* On hover */\n",
       "div.sk-estimator:hover .sk-estimator-doc-link:hover,\n",
       ".sk-estimator-doc-link:hover,\n",
       "div.sk-label-container:hover .sk-estimator-doc-link:hover,\n",
       ".sk-estimator-doc-link:hover {\n",
       "  /* unfitted */\n",
       "  background-color: var(--sklearn-color-unfitted-level-3);\n",
       "  color: var(--sklearn-color-background);\n",
       "  text-decoration: none;\n",
       "}\n",
       "\n",
       "div.sk-estimator.fitted:hover .sk-estimator-doc-link.fitted:hover,\n",
       ".sk-estimator-doc-link.fitted:hover,\n",
       "div.sk-label-container:hover .sk-estimator-doc-link.fitted:hover,\n",
       ".sk-estimator-doc-link.fitted:hover {\n",
       "  /* fitted */\n",
       "  background-color: var(--sklearn-color-fitted-level-3);\n",
       "  color: var(--sklearn-color-background);\n",
       "  text-decoration: none;\n",
       "}\n",
       "\n",
       "/* Span, style for the box shown on hovering the info icon */\n",
       ".sk-estimator-doc-link span {\n",
       "  display: none;\n",
       "  z-index: 9999;\n",
       "  position: relative;\n",
       "  font-weight: normal;\n",
       "  right: .2ex;\n",
       "  padding: .5ex;\n",
       "  margin: .5ex;\n",
       "  width: min-content;\n",
       "  min-width: 20ex;\n",
       "  max-width: 50ex;\n",
       "  color: var(--sklearn-color-text);\n",
       "  box-shadow: 2pt 2pt 4pt #999;\n",
       "  /* unfitted */\n",
       "  background: var(--sklearn-color-unfitted-level-0);\n",
       "  border: .5pt solid var(--sklearn-color-unfitted-level-3);\n",
       "}\n",
       "\n",
       ".sk-estimator-doc-link.fitted span {\n",
       "  /* fitted */\n",
       "  background: var(--sklearn-color-fitted-level-0);\n",
       "  border: var(--sklearn-color-fitted-level-3);\n",
       "}\n",
       "\n",
       ".sk-estimator-doc-link:hover span {\n",
       "  display: block;\n",
       "}\n",
       "\n",
       "/* \"?\"-specific style due to the `<a>` HTML tag */\n",
       "\n",
       "#sk-container-id-1 a.estimator_doc_link {\n",
       "  float: right;\n",
       "  font-size: 1rem;\n",
       "  line-height: 1em;\n",
       "  font-family: monospace;\n",
       "  background-color: var(--sklearn-color-background);\n",
       "  border-radius: 1rem;\n",
       "  height: 1rem;\n",
       "  width: 1rem;\n",
       "  text-decoration: none;\n",
       "  /* unfitted */\n",
       "  color: var(--sklearn-color-unfitted-level-1);\n",
       "  border: var(--sklearn-color-unfitted-level-1) 1pt solid;\n",
       "}\n",
       "\n",
       "#sk-container-id-1 a.estimator_doc_link.fitted {\n",
       "  /* fitted */\n",
       "  border: var(--sklearn-color-fitted-level-1) 1pt solid;\n",
       "  color: var(--sklearn-color-fitted-level-1);\n",
       "}\n",
       "\n",
       "/* On hover */\n",
       "#sk-container-id-1 a.estimator_doc_link:hover {\n",
       "  /* unfitted */\n",
       "  background-color: var(--sklearn-color-unfitted-level-3);\n",
       "  color: var(--sklearn-color-background);\n",
       "  text-decoration: none;\n",
       "}\n",
       "\n",
       "#sk-container-id-1 a.estimator_doc_link.fitted:hover {\n",
       "  /* fitted */\n",
       "  background-color: var(--sklearn-color-fitted-level-3);\n",
       "}\n",
       "</style><div id=\"sk-container-id-1\" class=\"sk-top-container\"><div class=\"sk-text-repr-fallback\"><pre>LinearRegression()</pre><b>In a Jupyter environment, please rerun this cell to show the HTML representation or trust the notebook. <br />On GitHub, the HTML representation is unable to render, please try loading this page with nbviewer.org.</b></div><div class=\"sk-container\" hidden><div class=\"sk-item\"><div class=\"sk-estimator fitted sk-toggleable\"><input class=\"sk-toggleable__control sk-hidden--visually\" id=\"sk-estimator-id-1\" type=\"checkbox\" checked><label for=\"sk-estimator-id-1\" class=\"sk-toggleable__label fitted sk-toggleable__label-arrow\"><div><div>LinearRegression</div></div><div><a class=\"sk-estimator-doc-link fitted\" rel=\"noreferrer\" target=\"_blank\" href=\"https://scikit-learn.org/1.6/modules/generated/sklearn.linear_model.LinearRegression.html\">?<span>Documentation for LinearRegression</span></a><span class=\"sk-estimator-doc-link fitted\">i<span>Fitted</span></span></div></label><div class=\"sk-toggleable__content fitted\"><pre>LinearRegression()</pre></div> </div></div></div></div>"
      ],
      "text/plain": [
       "LinearRegression()"
      ]
     },
     "execution_count": 19,
     "metadata": {},
     "output_type": "execute_result"
    }
   ],
   "source": [
    "lr = LinearRegression()\n",
    "\n",
    "lr.fit(x_train,y_train)"
   ]
  },
  {
   "cell_type": "code",
   "execution_count": 20,
   "id": "756ce05f",
   "metadata": {},
   "outputs": [],
   "source": [
    "lr_predict = lr.predict(x_test)"
   ]
  },
  {
   "cell_type": "code",
   "execution_count": 21,
   "id": "f72f250d",
   "metadata": {},
   "outputs": [
    {
     "name": "stdout",
     "output_type": "stream",
     "text": [
      "R² Score: 0.9668288367909948\n",
      "RMSE: 11.570302406252662\n"
     ]
    }
   ],
   "source": [
    "print(\"R² Score:\", r2_score(y_test, lr_predict))\n",
    "rmse = np.sqrt(mean_squared_error(y_test, lr_predict))\n",
    "print(\"RMSE:\", rmse)"
   ]
  },
  {
   "cell_type": "code",
   "execution_count": 22,
   "id": "6ef6aa23",
   "metadata": {},
   "outputs": [
    {
     "name": "stderr",
     "output_type": "stream",
     "text": [
      "d:\\Data Science Journey\\Python DS\\ds\\Lib\\site-packages\\sklearn\\utils\\validation.py:2739: UserWarning: X does not have valid feature names, but LinearRegression was fitted with feature names\n",
      "  warnings.warn(\n"
     ]
    },
    {
     "data": {
      "text/plain": [
       "array([407.28984442])"
      ]
     },
     "execution_count": 22,
     "metadata": {},
     "output_type": "execute_result"
    }
   ],
   "source": [
    "Y = lr.predict([[1,20,70,80,40,25]])\n",
    "Y"
   ]
  },
  {
   "cell_type": "code",
   "execution_count": 23,
   "id": "5181a019",
   "metadata": {},
   "outputs": [
    {
     "data": {
      "application/vnd.plotly.v1+json": {
       "config": {
        "plotlyServerURL": "https://plot.ly"
       },
       "data": [
        {
         "hovertemplate": "Actual Calories=%{x}<br>Predicted Calories=%{y}<extra></extra>",
         "legendgroup": "",
         "marker": {
          "color": "#636efa",
          "opacity": 0.6,
          "symbol": "circle"
         },
         "mode": "markers",
         "name": "",
         "showlegend": false,
         "type": "scattergl",
         "x": {
          "bdata": "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",
          "dtype": "f8"
         },
         "xaxis": "x",
         "y": {
          "bdata": "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",
          "dtype": "f8"
         },
         "yaxis": "y"
        }
       ],
       "layout": {
        "legend": {
         "tracegroupgap": 0
        },
        "shapes": [
         {
          "line": {
           "color": "red",
           "dash": "dash"
          },
          "name": "Ideal Line",
          "type": "line",
          "x0": 1,
          "x1": 295,
          "y0": 1,
          "y1": 295
         }
        ],
        "template": {
         "data": {
          "bar": [
           {
            "error_x": {
             "color": "#2a3f5f"
            },
            "error_y": {
             "color": "#2a3f5f"
            },
            "marker": {
             "line": {
              "color": "white",
              "width": 0.5
             },
             "pattern": {
              "fillmode": "overlay",
              "size": 10,
              "solidity": 0.2
             }
            },
            "type": "bar"
           }
          ],
          "barpolar": [
           {
            "marker": {
             "line": {
              "color": "white",
              "width": 0.5
             },
             "pattern": {
              "fillmode": "overlay",
              "size": 10,
              "solidity": 0.2
             }
            },
            "type": "barpolar"
           }
          ],
          "carpet": [
           {
            "aaxis": {
             "endlinecolor": "#2a3f5f",
             "gridcolor": "#C8D4E3",
             "linecolor": "#C8D4E3",
             "minorgridcolor": "#C8D4E3",
             "startlinecolor": "#2a3f5f"
            },
            "baxis": {
             "endlinecolor": "#2a3f5f",
             "gridcolor": "#C8D4E3",
             "linecolor": "#C8D4E3",
             "minorgridcolor": "#C8D4E3",
             "startlinecolor": "#2a3f5f"
            },
            "type": "carpet"
           }
          ],
          "choropleth": [
           {
            "colorbar": {
             "outlinewidth": 0,
             "ticks": ""
            },
            "type": "choropleth"
           }
          ],
          "contour": [
           {
            "colorbar": {
             "outlinewidth": 0,
             "ticks": ""
            },
            "colorscale": [
             [
              0,
              "#0d0887"
             ],
             [
              0.1111111111111111,
              "#46039f"
             ],
             [
              0.2222222222222222,
              "#7201a8"
             ],
             [
              0.3333333333333333,
              "#9c179e"
             ],
             [
              0.4444444444444444,
              "#bd3786"
             ],
             [
              0.5555555555555556,
              "#d8576b"
             ],
             [
              0.6666666666666666,
              "#ed7953"
             ],
             [
              0.7777777777777778,
              "#fb9f3a"
             ],
             [
              0.8888888888888888,
              "#fdca26"
             ],
             [
              1,
              "#f0f921"
             ]
            ],
            "type": "contour"
           }
          ],
          "contourcarpet": [
           {
            "colorbar": {
             "outlinewidth": 0,
             "ticks": ""
            },
            "type": "contourcarpet"
           }
          ],
          "heatmap": [
           {
            "colorbar": {
             "outlinewidth": 0,
             "ticks": ""
            },
            "colorscale": [
             [
              0,
              "#0d0887"
             ],
             [
              0.1111111111111111,
              "#46039f"
             ],
             [
              0.2222222222222222,
              "#7201a8"
             ],
             [
              0.3333333333333333,
              "#9c179e"
             ],
             [
              0.4444444444444444,
              "#bd3786"
             ],
             [
              0.5555555555555556,
              "#d8576b"
             ],
             [
              0.6666666666666666,
              "#ed7953"
             ],
             [
              0.7777777777777778,
              "#fb9f3a"
             ],
             [
              0.8888888888888888,
              "#fdca26"
             ],
             [
              1,
              "#f0f921"
             ]
            ],
            "type": "heatmap"
           }
          ],
          "histogram": [
           {
            "marker": {
             "pattern": {
              "fillmode": "overlay",
              "size": 10,
              "solidity": 0.2
             }
            },
            "type": "histogram"
           }
          ],
          "histogram2d": [
           {
            "colorbar": {
             "outlinewidth": 0,
             "ticks": ""
            },
            "colorscale": [
             [
              0,
              "#0d0887"
             ],
             [
              0.1111111111111111,
              "#46039f"
             ],
             [
              0.2222222222222222,
              "#7201a8"
             ],
             [
              0.3333333333333333,
              "#9c179e"
             ],
             [
              0.4444444444444444,
              "#bd3786"
             ],
             [
              0.5555555555555556,
              "#d8576b"
             ],
             [
              0.6666666666666666,
              "#ed7953"
             ],
             [
              0.7777777777777778,
              "#fb9f3a"
             ],
             [
              0.8888888888888888,
              "#fdca26"
             ],
             [
              1,
              "#f0f921"
             ]
            ],
            "type": "histogram2d"
           }
          ],
          "histogram2dcontour": [
           {
            "colorbar": {
             "outlinewidth": 0,
             "ticks": ""
            },
            "colorscale": [
             [
              0,
              "#0d0887"
             ],
             [
              0.1111111111111111,
              "#46039f"
             ],
             [
              0.2222222222222222,
              "#7201a8"
             ],
             [
              0.3333333333333333,
              "#9c179e"
             ],
             [
              0.4444444444444444,
              "#bd3786"
             ],
             [
              0.5555555555555556,
              "#d8576b"
             ],
             [
              0.6666666666666666,
              "#ed7953"
             ],
             [
              0.7777777777777778,
              "#fb9f3a"
             ],
             [
              0.8888888888888888,
              "#fdca26"
             ],
             [
              1,
              "#f0f921"
             ]
            ],
            "type": "histogram2dcontour"
           }
          ],
          "mesh3d": [
           {
            "colorbar": {
             "outlinewidth": 0,
             "ticks": ""
            },
            "type": "mesh3d"
           }
          ],
          "parcoords": [
           {
            "line": {
             "colorbar": {
              "outlinewidth": 0,
              "ticks": ""
             }
            },
            "type": "parcoords"
           }
          ],
          "pie": [
           {
            "automargin": true,
            "type": "pie"
           }
          ],
          "scatter": [
           {
            "fillpattern": {
             "fillmode": "overlay",
             "size": 10,
             "solidity": 0.2
            },
            "type": "scatter"
           }
          ],
          "scatter3d": [
           {
            "line": {
             "colorbar": {
              "outlinewidth": 0,
              "ticks": ""
             }
            },
            "marker": {
             "colorbar": {
              "outlinewidth": 0,
              "ticks": ""
             }
            },
            "type": "scatter3d"
           }
          ],
          "scattercarpet": [
           {
            "marker": {
             "colorbar": {
              "outlinewidth": 0,
              "ticks": ""
             }
            },
            "type": "scattercarpet"
           }
          ],
          "scattergeo": [
           {
            "marker": {
             "colorbar": {
              "outlinewidth": 0,
              "ticks": ""
             }
            },
            "type": "scattergeo"
           }
          ],
          "scattergl": [
           {
            "marker": {
             "colorbar": {
              "outlinewidth": 0,
              "ticks": ""
             }
            },
            "type": "scattergl"
           }
          ],
          "scattermap": [
           {
            "marker": {
             "colorbar": {
              "outlinewidth": 0,
              "ticks": ""
             }
            },
            "type": "scattermap"
           }
          ],
          "scattermapbox": [
           {
            "marker": {
             "colorbar": {
              "outlinewidth": 0,
              "ticks": ""
             }
            },
            "type": "scattermapbox"
           }
          ],
          "scatterpolar": [
           {
            "marker": {
             "colorbar": {
              "outlinewidth": 0,
              "ticks": ""
             }
            },
            "type": "scatterpolar"
           }
          ],
          "scatterpolargl": [
           {
            "marker": {
             "colorbar": {
              "outlinewidth": 0,
              "ticks": ""
             }
            },
            "type": "scatterpolargl"
           }
          ],
          "scatterternary": [
           {
            "marker": {
             "colorbar": {
              "outlinewidth": 0,
              "ticks": ""
             }
            },
            "type": "scatterternary"
           }
          ],
          "surface": [
           {
            "colorbar": {
             "outlinewidth": 0,
             "ticks": ""
            },
            "colorscale": [
             [
              0,
              "#0d0887"
             ],
             [
              0.1111111111111111,
              "#46039f"
             ],
             [
              0.2222222222222222,
              "#7201a8"
             ],
             [
              0.3333333333333333,
              "#9c179e"
             ],
             [
              0.4444444444444444,
              "#bd3786"
             ],
             [
              0.5555555555555556,
              "#d8576b"
             ],
             [
              0.6666666666666666,
              "#ed7953"
             ],
             [
              0.7777777777777778,
              "#fb9f3a"
             ],
             [
              0.8888888888888888,
              "#fdca26"
             ],
             [
              1,
              "#f0f921"
             ]
            ],
            "type": "surface"
           }
          ],
          "table": [
           {
            "cells": {
             "fill": {
              "color": "#EBF0F8"
             },
             "line": {
              "color": "white"
             }
            },
            "header": {
             "fill": {
              "color": "#C8D4E3"
             },
             "line": {
              "color": "white"
             }
            },
            "type": "table"
           }
          ]
         },
         "layout": {
          "annotationdefaults": {
           "arrowcolor": "#2a3f5f",
           "arrowhead": 0,
           "arrowwidth": 1
          },
          "autotypenumbers": "strict",
          "coloraxis": {
           "colorbar": {
            "outlinewidth": 0,
            "ticks": ""
           }
          },
          "colorscale": {
           "diverging": [
            [
             0,
             "#8e0152"
            ],
            [
             0.1,
             "#c51b7d"
            ],
            [
             0.2,
             "#de77ae"
            ],
            [
             0.3,
             "#f1b6da"
            ],
            [
             0.4,
             "#fde0ef"
            ],
            [
             0.5,
             "#f7f7f7"
            ],
            [
             0.6,
             "#e6f5d0"
            ],
            [
             0.7,
             "#b8e186"
            ],
            [
             0.8,
             "#7fbc41"
            ],
            [
             0.9,
             "#4d9221"
            ],
            [
             1,
             "#276419"
            ]
           ],
           "sequential": [
            [
             0,
             "#0d0887"
            ],
            [
             0.1111111111111111,
             "#46039f"
            ],
            [
             0.2222222222222222,
             "#7201a8"
            ],
            [
             0.3333333333333333,
             "#9c179e"
            ],
            [
             0.4444444444444444,
             "#bd3786"
            ],
            [
             0.5555555555555556,
             "#d8576b"
            ],
            [
             0.6666666666666666,
             "#ed7953"
            ],
            [
             0.7777777777777778,
             "#fb9f3a"
            ],
            [
             0.8888888888888888,
             "#fdca26"
            ],
            [
             1,
             "#f0f921"
            ]
           ],
           "sequentialminus": [
            [
             0,
             "#0d0887"
            ],
            [
             0.1111111111111111,
             "#46039f"
            ],
            [
             0.2222222222222222,
             "#7201a8"
            ],
            [
             0.3333333333333333,
             "#9c179e"
            ],
            [
             0.4444444444444444,
             "#bd3786"
            ],
            [
             0.5555555555555556,
             "#d8576b"
            ],
            [
             0.6666666666666666,
             "#ed7953"
            ],
            [
             0.7777777777777778,
             "#fb9f3a"
            ],
            [
             0.8888888888888888,
             "#fdca26"
            ],
            [
             1,
             "#f0f921"
            ]
           ]
          },
          "colorway": [
           "#636efa",
           "#EF553B",
           "#00cc96",
           "#ab63fa",
           "#FFA15A",
           "#19d3f3",
           "#FF6692",
           "#B6E880",
           "#FF97FF",
           "#FECB52"
          ],
          "font": {
           "color": "#2a3f5f"
          },
          "geo": {
           "bgcolor": "white",
           "lakecolor": "white",
           "landcolor": "white",
           "showlakes": true,
           "showland": true,
           "subunitcolor": "#C8D4E3"
          },
          "hoverlabel": {
           "align": "left"
          },
          "hovermode": "closest",
          "mapbox": {
           "style": "light"
          },
          "paper_bgcolor": "white",
          "plot_bgcolor": "white",
          "polar": {
           "angularaxis": {
            "gridcolor": "#EBF0F8",
            "linecolor": "#EBF0F8",
            "ticks": ""
           },
           "bgcolor": "white",
           "radialaxis": {
            "gridcolor": "#EBF0F8",
            "linecolor": "#EBF0F8",
            "ticks": ""
           }
          },
          "scene": {
           "xaxis": {
            "backgroundcolor": "white",
            "gridcolor": "#DFE8F3",
            "gridwidth": 2,
            "linecolor": "#EBF0F8",
            "showbackground": true,
            "ticks": "",
            "zerolinecolor": "#EBF0F8"
           },
           "yaxis": {
            "backgroundcolor": "white",
            "gridcolor": "#DFE8F3",
            "gridwidth": 2,
            "linecolor": "#EBF0F8",
            "showbackground": true,
            "ticks": "",
            "zerolinecolor": "#EBF0F8"
           },
           "zaxis": {
            "backgroundcolor": "white",
            "gridcolor": "#DFE8F3",
            "gridwidth": 2,
            "linecolor": "#EBF0F8",
            "showbackground": true,
            "ticks": "",
            "zerolinecolor": "#EBF0F8"
           }
          },
          "shapedefaults": {
           "line": {
            "color": "#2a3f5f"
           }
          },
          "ternary": {
           "aaxis": {
            "gridcolor": "#DFE8F3",
            "linecolor": "#A2B1C6",
            "ticks": ""
           },
           "baxis": {
            "gridcolor": "#DFE8F3",
            "linecolor": "#A2B1C6",
            "ticks": ""
           },
           "bgcolor": "white",
           "caxis": {
            "gridcolor": "#DFE8F3",
            "linecolor": "#A2B1C6",
            "ticks": ""
           }
          },
          "title": {
           "x": 0.05
          },
          "xaxis": {
           "automargin": true,
           "gridcolor": "#EBF0F8",
           "linecolor": "#EBF0F8",
           "ticks": "",
           "title": {
            "standoff": 15
           },
           "zerolinecolor": "#EBF0F8",
           "zerolinewidth": 2
          },
          "yaxis": {
           "automargin": true,
           "gridcolor": "#EBF0F8",
           "linecolor": "#EBF0F8",
           "ticks": "",
           "title": {
            "standoff": 15
           },
           "zerolinecolor": "#EBF0F8",
           "zerolinewidth": 2
          }
         }
        },
        "title": {
         "text": "Actual vs Predicted Calories (Linear Regression)"
        },
        "xaxis": {
         "anchor": "y",
         "domain": [
          0,
          1
         ],
         "title": {
          "text": "Actual Calories"
         }
        },
        "yaxis": {
         "anchor": "x",
         "domain": [
          0,
          1
         ],
         "title": {
          "text": "Predicted Calories"
         }
        }
       }
      }
     },
     "metadata": {},
     "output_type": "display_data"
    }
   ],
   "source": [
    "# Create a DataFrame for easy plotting\n",
    "results_df = pd.DataFrame({\n",
    "    'Actual Calories': y_test,\n",
    "    'Predicted Calories': lr_predict\n",
    "})\n",
    "\n",
    "# Plot with Plotly Express\n",
    "fig = plt.scatter(\n",
    "    results_df,\n",
    "    x='Actual Calories',\n",
    "    y='Predicted Calories',\n",
    "    title='Actual vs Predicted Calories (Linear Regression)',\n",
    "    opacity=0.6\n",
    ")\n",
    "\n",
    "# Add ideal prediction line\n",
    "fig.add_shape(\n",
    "    type='line',\n",
    "    x0=results_df['Actual Calories'].min(),\n",
    "    y0=results_df['Actual Calories'].min(),\n",
    "    x1=results_df['Actual Calories'].max(),\n",
    "    y1=results_df['Actual Calories'].max(),\n",
    "    line=dict(color='red', dash='dash'),\n",
    "    name='Ideal Line'\n",
    ")\n",
    "\n",
    "fig.update_layout(template='plotly_white')\n",
    "fig.show()"
   ]
  },
  {
   "cell_type": "code",
   "execution_count": 24,
   "id": "a1342aef",
   "metadata": {},
   "outputs": [],
   "source": [
    "new_df.to_csv('dataframe.csv')"
   ]
  },
  {
   "cell_type": "code",
   "execution_count": 25,
   "id": "561c346d",
   "metadata": {},
   "outputs": [
    {
     "data": {
      "text/html": [
       "<div>\n",
       "<style scoped>\n",
       "    .dataframe tbody tr th:only-of-type {\n",
       "        vertical-align: middle;\n",
       "    }\n",
       "\n",
       "    .dataframe tbody tr th {\n",
       "        vertical-align: top;\n",
       "    }\n",
       "\n",
       "    .dataframe thead th {\n",
       "        text-align: right;\n",
       "    }\n",
       "</style>\n",
       "<table border=\"1\" class=\"dataframe\">\n",
       "  <thead>\n",
       "    <tr style=\"text-align: right;\">\n",
       "      <th></th>\n",
       "      <th>Gender</th>\n",
       "      <th>Age</th>\n",
       "      <th>Duration</th>\n",
       "      <th>Heart_Rate</th>\n",
       "      <th>Body_Temp</th>\n",
       "      <th>Calories</th>\n",
       "      <th>BMI</th>\n",
       "    </tr>\n",
       "  </thead>\n",
       "  <tbody>\n",
       "    <tr>\n",
       "      <th>0</th>\n",
       "      <td>0</td>\n",
       "      <td>68</td>\n",
       "      <td>29.0</td>\n",
       "      <td>105.0</td>\n",
       "      <td>40.8</td>\n",
       "      <td>231.0</td>\n",
       "      <td>26.038781</td>\n",
       "    </tr>\n",
       "    <tr>\n",
       "      <th>1</th>\n",
       "      <td>1</td>\n",
       "      <td>20</td>\n",
       "      <td>14.0</td>\n",
       "      <td>94.0</td>\n",
       "      <td>40.3</td>\n",
       "      <td>66.0</td>\n",
       "      <td>21.773842</td>\n",
       "    </tr>\n",
       "    <tr>\n",
       "      <th>2</th>\n",
       "      <td>0</td>\n",
       "      <td>69</td>\n",
       "      <td>5.0</td>\n",
       "      <td>88.0</td>\n",
       "      <td>38.7</td>\n",
       "      <td>26.0</td>\n",
       "      <td>24.655910</td>\n",
       "    </tr>\n",
       "    <tr>\n",
       "      <th>3</th>\n",
       "      <td>1</td>\n",
       "      <td>34</td>\n",
       "      <td>13.0</td>\n",
       "      <td>100.0</td>\n",
       "      <td>40.5</td>\n",
       "      <td>71.0</td>\n",
       "      <td>22.159109</td>\n",
       "    </tr>\n",
       "    <tr>\n",
       "      <th>4</th>\n",
       "      <td>1</td>\n",
       "      <td>27</td>\n",
       "      <td>10.0</td>\n",
       "      <td>81.0</td>\n",
       "      <td>39.8</td>\n",
       "      <td>35.0</td>\n",
       "      <td>24.456063</td>\n",
       "    </tr>\n",
       "    <tr>\n",
       "      <th>...</th>\n",
       "      <td>...</td>\n",
       "      <td>...</td>\n",
       "      <td>...</td>\n",
       "      <td>...</td>\n",
       "      <td>...</td>\n",
       "      <td>...</td>\n",
       "      <td>...</td>\n",
       "    </tr>\n",
       "    <tr>\n",
       "      <th>14995</th>\n",
       "      <td>1</td>\n",
       "      <td>20</td>\n",
       "      <td>11.0</td>\n",
       "      <td>92.0</td>\n",
       "      <td>40.4</td>\n",
       "      <td>45.0</td>\n",
       "      <td>23.087868</td>\n",
       "    </tr>\n",
       "    <tr>\n",
       "      <th>14996</th>\n",
       "      <td>1</td>\n",
       "      <td>27</td>\n",
       "      <td>6.0</td>\n",
       "      <td>85.0</td>\n",
       "      <td>39.2</td>\n",
       "      <td>23.0</td>\n",
       "      <td>23.875115</td>\n",
       "    </tr>\n",
       "    <tr>\n",
       "      <th>14997</th>\n",
       "      <td>1</td>\n",
       "      <td>43</td>\n",
       "      <td>16.0</td>\n",
       "      <td>90.0</td>\n",
       "      <td>40.1</td>\n",
       "      <td>75.0</td>\n",
       "      <td>22.942130</td>\n",
       "    </tr>\n",
       "    <tr>\n",
       "      <th>14998</th>\n",
       "      <td>0</td>\n",
       "      <td>78</td>\n",
       "      <td>2.0</td>\n",
       "      <td>84.0</td>\n",
       "      <td>38.3</td>\n",
       "      <td>11.0</td>\n",
       "      <td>26.040968</td>\n",
       "    </tr>\n",
       "    <tr>\n",
       "      <th>14999</th>\n",
       "      <td>0</td>\n",
       "      <td>63</td>\n",
       "      <td>18.0</td>\n",
       "      <td>92.0</td>\n",
       "      <td>40.5</td>\n",
       "      <td>98.0</td>\n",
       "      <td>26.395803</td>\n",
       "    </tr>\n",
       "  </tbody>\n",
       "</table>\n",
       "<p>15000 rows × 7 columns</p>\n",
       "</div>"
      ],
      "text/plain": [
       "       Gender  Age  Duration  Heart_Rate  Body_Temp  Calories        BMI\n",
       "0           0   68      29.0       105.0       40.8     231.0  26.038781\n",
       "1           1   20      14.0        94.0       40.3      66.0  21.773842\n",
       "2           0   69       5.0        88.0       38.7      26.0  24.655910\n",
       "3           1   34      13.0       100.0       40.5      71.0  22.159109\n",
       "4           1   27      10.0        81.0       39.8      35.0  24.456063\n",
       "...       ...  ...       ...         ...        ...       ...        ...\n",
       "14995       1   20      11.0        92.0       40.4      45.0  23.087868\n",
       "14996       1   27       6.0        85.0       39.2      23.0  23.875115\n",
       "14997       1   43      16.0        90.0       40.1      75.0  22.942130\n",
       "14998       0   78       2.0        84.0       38.3      11.0  26.040968\n",
       "14999       0   63      18.0        92.0       40.5      98.0  26.395803\n",
       "\n",
       "[15000 rows x 7 columns]"
      ]
     },
     "execution_count": 25,
     "metadata": {},
     "output_type": "execute_result"
    }
   ],
   "source": [
    "new_df"
   ]
  },
  {
   "cell_type": "code",
   "execution_count": 26,
   "id": "eb64cbe2",
   "metadata": {},
   "outputs": [
    {
     "data": {
      "text/html": [
       "<div>\n",
       "<style scoped>\n",
       "    .dataframe tbody tr th:only-of-type {\n",
       "        vertical-align: middle;\n",
       "    }\n",
       "\n",
       "    .dataframe tbody tr th {\n",
       "        vertical-align: top;\n",
       "    }\n",
       "\n",
       "    .dataframe thead th {\n",
       "        text-align: right;\n",
       "    }\n",
       "</style>\n",
       "<table border=\"1\" class=\"dataframe\">\n",
       "  <thead>\n",
       "    <tr style=\"text-align: right;\">\n",
       "      <th></th>\n",
       "      <th>Gender</th>\n",
       "      <th>Age</th>\n",
       "      <th>Duration</th>\n",
       "      <th>Heart_Rate</th>\n",
       "      <th>Body_Temp</th>\n",
       "      <th>Calories</th>\n",
       "      <th>BMI</th>\n",
       "    </tr>\n",
       "  </thead>\n",
       "  <tbody>\n",
       "    <tr>\n",
       "      <th>0</th>\n",
       "      <td>0</td>\n",
       "      <td>68</td>\n",
       "      <td>29.0</td>\n",
       "      <td>105.0</td>\n",
       "      <td>40.8</td>\n",
       "      <td>231.0</td>\n",
       "      <td>26.038781</td>\n",
       "    </tr>\n",
       "    <tr>\n",
       "      <th>1</th>\n",
       "      <td>1</td>\n",
       "      <td>20</td>\n",
       "      <td>14.0</td>\n",
       "      <td>94.0</td>\n",
       "      <td>40.3</td>\n",
       "      <td>66.0</td>\n",
       "      <td>21.773842</td>\n",
       "    </tr>\n",
       "    <tr>\n",
       "      <th>2</th>\n",
       "      <td>0</td>\n",
       "      <td>69</td>\n",
       "      <td>5.0</td>\n",
       "      <td>88.0</td>\n",
       "      <td>38.7</td>\n",
       "      <td>26.0</td>\n",
       "      <td>24.655910</td>\n",
       "    </tr>\n",
       "    <tr>\n",
       "      <th>3</th>\n",
       "      <td>1</td>\n",
       "      <td>34</td>\n",
       "      <td>13.0</td>\n",
       "      <td>100.0</td>\n",
       "      <td>40.5</td>\n",
       "      <td>71.0</td>\n",
       "      <td>22.159109</td>\n",
       "    </tr>\n",
       "    <tr>\n",
       "      <th>4</th>\n",
       "      <td>1</td>\n",
       "      <td>27</td>\n",
       "      <td>10.0</td>\n",
       "      <td>81.0</td>\n",
       "      <td>39.8</td>\n",
       "      <td>35.0</td>\n",
       "      <td>24.456063</td>\n",
       "    </tr>\n",
       "    <tr>\n",
       "      <th>...</th>\n",
       "      <td>...</td>\n",
       "      <td>...</td>\n",
       "      <td>...</td>\n",
       "      <td>...</td>\n",
       "      <td>...</td>\n",
       "      <td>...</td>\n",
       "      <td>...</td>\n",
       "    </tr>\n",
       "    <tr>\n",
       "      <th>14995</th>\n",
       "      <td>1</td>\n",
       "      <td>20</td>\n",
       "      <td>11.0</td>\n",
       "      <td>92.0</td>\n",
       "      <td>40.4</td>\n",
       "      <td>45.0</td>\n",
       "      <td>23.087868</td>\n",
       "    </tr>\n",
       "    <tr>\n",
       "      <th>14996</th>\n",
       "      <td>1</td>\n",
       "      <td>27</td>\n",
       "      <td>6.0</td>\n",
       "      <td>85.0</td>\n",
       "      <td>39.2</td>\n",
       "      <td>23.0</td>\n",
       "      <td>23.875115</td>\n",
       "    </tr>\n",
       "    <tr>\n",
       "      <th>14997</th>\n",
       "      <td>1</td>\n",
       "      <td>43</td>\n",
       "      <td>16.0</td>\n",
       "      <td>90.0</td>\n",
       "      <td>40.1</td>\n",
       "      <td>75.0</td>\n",
       "      <td>22.942130</td>\n",
       "    </tr>\n",
       "    <tr>\n",
       "      <th>14998</th>\n",
       "      <td>0</td>\n",
       "      <td>78</td>\n",
       "      <td>2.0</td>\n",
       "      <td>84.0</td>\n",
       "      <td>38.3</td>\n",
       "      <td>11.0</td>\n",
       "      <td>26.040968</td>\n",
       "    </tr>\n",
       "    <tr>\n",
       "      <th>14999</th>\n",
       "      <td>0</td>\n",
       "      <td>63</td>\n",
       "      <td>18.0</td>\n",
       "      <td>92.0</td>\n",
       "      <td>40.5</td>\n",
       "      <td>98.0</td>\n",
       "      <td>26.395803</td>\n",
       "    </tr>\n",
       "  </tbody>\n",
       "</table>\n",
       "<p>15000 rows × 7 columns</p>\n",
       "</div>"
      ],
      "text/plain": [
       "       Gender  Age  Duration  Heart_Rate  Body_Temp  Calories        BMI\n",
       "0           0   68      29.0       105.0       40.8     231.0  26.038781\n",
       "1           1   20      14.0        94.0       40.3      66.0  21.773842\n",
       "2           0   69       5.0        88.0       38.7      26.0  24.655910\n",
       "3           1   34      13.0       100.0       40.5      71.0  22.159109\n",
       "4           1   27      10.0        81.0       39.8      35.0  24.456063\n",
       "...       ...  ...       ...         ...        ...       ...        ...\n",
       "14995       1   20      11.0        92.0       40.4      45.0  23.087868\n",
       "14996       1   27       6.0        85.0       39.2      23.0  23.875115\n",
       "14997       1   43      16.0        90.0       40.1      75.0  22.942130\n",
       "14998       0   78       2.0        84.0       38.3      11.0  26.040968\n",
       "14999       0   63      18.0        92.0       40.5      98.0  26.395803\n",
       "\n",
       "[15000 rows x 7 columns]"
      ]
     },
     "execution_count": 26,
     "metadata": {},
     "output_type": "execute_result"
    }
   ],
   "source": [
    "new_df"
   ]
  },
  {
   "cell_type": "code",
   "execution_count": 27,
   "id": "c702ef63",
   "metadata": {},
   "outputs": [
    {
     "name": "stdout",
     "output_type": "stream",
     "text": [
      "                            OLS Regression Results                            \n",
      "==============================================================================\n",
      "Dep. Variable:               Calories   R-squared:                       0.967\n",
      "Model:                            OLS   Adj. R-squared:                  0.967\n",
      "Method:                 Least Squares   F-statistic:                 7.274e+04\n",
      "Date:                Sat, 24 May 2025   Prob (F-statistic):               0.00\n",
      "Time:                        05:39:23   Log-Likelihood:                -57764.\n",
      "No. Observations:               15000   AIC:                         1.155e+05\n",
      "Df Residuals:                   14993   BIC:                         1.156e+05\n",
      "Df Model:                           6                                         \n",
      "Covariance Type:            nonrobust                                         \n",
      "==============================================================================\n",
      "                 coef    std err          t      P>|t|      [0.025      0.975]\n",
      "------------------------------------------------------------------------------\n",
      "const        449.0597     11.037     40.689      0.000     427.427     470.693\n",
      "Gender        -1.7247      0.255     -6.765      0.000      -2.224      -1.225\n",
      "Age            0.5188      0.006     89.171      0.000       0.507       0.530\n",
      "Duration       6.6369      0.032    209.232      0.000       6.575       6.699\n",
      "Heart_Rate     1.9905      0.019    107.129      0.000       1.954       2.027\n",
      "Body_Temp    -16.9533      0.278    -61.003      0.000     -17.498     -16.409\n",
      "BMI            0.1852      0.085      2.190      0.029       0.019       0.351\n",
      "==============================================================================\n",
      "Omnibus:                     3077.625   Durbin-Watson:                   2.007\n",
      "Prob(Omnibus):                  0.000   Jarque-Bera (JB):             8669.643\n",
      "Skew:                           1.086   Prob(JB):                         0.00\n",
      "Kurtosis:                       6.025   Cond. No.                     1.38e+04\n",
      "==============================================================================\n",
      "\n",
      "Notes:\n",
      "[1] Standard Errors assume that the covariance matrix of the errors is correctly specified.\n",
      "[2] The condition number is large, 1.38e+04. This might indicate that there are\n",
      "strong multicollinearity or other numerical problems.\n"
     ]
    }
   ],
   "source": [
    "import statsmodels.api as sm\n",
    "\n",
    "# Separate independent variables (X) and dependent variable (y)\n",
    "X = new_df[['Gender','Age','Duration','Heart_Rate','Body_Temp','BMI']] # drop the output column\n",
    "y = new_df['Calories']\n",
    "\n",
    "# Add constant intercept term for the model\n",
    "X = sm.add_constant(X)\n",
    "\n",
    "# Fit the OLS regression model\n",
    "model = sm.OLS(y, X).fit()\n",
    "\n",
    "# Print the summary\n",
    "print(model.summary())\n"
   ]
  },
  {
   "cell_type": "code",
   "execution_count": 28,
   "id": "e9944ae0",
   "metadata": {},
   "outputs": [
    {
     "data": {
      "text/html": [
       "<div>\n",
       "<style scoped>\n",
       "    .dataframe tbody tr th:only-of-type {\n",
       "        vertical-align: middle;\n",
       "    }\n",
       "\n",
       "    .dataframe tbody tr th {\n",
       "        vertical-align: top;\n",
       "    }\n",
       "\n",
       "    .dataframe thead th {\n",
       "        text-align: right;\n",
       "    }\n",
       "</style>\n",
       "<table border=\"1\" class=\"dataframe\">\n",
       "  <thead>\n",
       "    <tr style=\"text-align: right;\">\n",
       "      <th></th>\n",
       "      <th>Gender</th>\n",
       "      <th>Age</th>\n",
       "      <th>Duration</th>\n",
       "      <th>Heart_Rate</th>\n",
       "      <th>Body_Temp</th>\n",
       "      <th>Calories</th>\n",
       "      <th>BMI</th>\n",
       "    </tr>\n",
       "  </thead>\n",
       "  <tbody>\n",
       "    <tr>\n",
       "      <th>count</th>\n",
       "      <td>15000.000000</td>\n",
       "      <td>15000.000000</td>\n",
       "      <td>15000.000000</td>\n",
       "      <td>15000.000000</td>\n",
       "      <td>15000.000000</td>\n",
       "      <td>15000.000000</td>\n",
       "      <td>15000.000000</td>\n",
       "    </tr>\n",
       "    <tr>\n",
       "      <th>mean</th>\n",
       "      <td>0.503533</td>\n",
       "      <td>42.789800</td>\n",
       "      <td>15.530600</td>\n",
       "      <td>95.518533</td>\n",
       "      <td>40.025453</td>\n",
       "      <td>89.539533</td>\n",
       "      <td>24.344900</td>\n",
       "    </tr>\n",
       "    <tr>\n",
       "      <th>std</th>\n",
       "      <td>0.500004</td>\n",
       "      <td>16.980264</td>\n",
       "      <td>8.319203</td>\n",
       "      <td>9.583328</td>\n",
       "      <td>0.779230</td>\n",
       "      <td>62.456978</td>\n",
       "      <td>1.558784</td>\n",
       "    </tr>\n",
       "    <tr>\n",
       "      <th>min</th>\n",
       "      <td>0.000000</td>\n",
       "      <td>20.000000</td>\n",
       "      <td>1.000000</td>\n",
       "      <td>67.000000</td>\n",
       "      <td>37.100000</td>\n",
       "      <td>1.000000</td>\n",
       "      <td>19.227688</td>\n",
       "    </tr>\n",
       "    <tr>\n",
       "      <th>25%</th>\n",
       "      <td>0.000000</td>\n",
       "      <td>28.000000</td>\n",
       "      <td>8.000000</td>\n",
       "      <td>88.000000</td>\n",
       "      <td>39.600000</td>\n",
       "      <td>35.000000</td>\n",
       "      <td>23.243408</td>\n",
       "    </tr>\n",
       "    <tr>\n",
       "      <th>50%</th>\n",
       "      <td>1.000000</td>\n",
       "      <td>39.000000</td>\n",
       "      <td>16.000000</td>\n",
       "      <td>96.000000</td>\n",
       "      <td>40.200000</td>\n",
       "      <td>79.000000</td>\n",
       "      <td>24.376731</td>\n",
       "    </tr>\n",
       "    <tr>\n",
       "      <th>75%</th>\n",
       "      <td>1.000000</td>\n",
       "      <td>56.000000</td>\n",
       "      <td>23.000000</td>\n",
       "      <td>103.000000</td>\n",
       "      <td>40.600000</td>\n",
       "      <td>138.000000</td>\n",
       "      <td>25.492722</td>\n",
       "    </tr>\n",
       "    <tr>\n",
       "      <th>max</th>\n",
       "      <td>1.000000</td>\n",
       "      <td>79.000000</td>\n",
       "      <td>30.000000</td>\n",
       "      <td>128.000000</td>\n",
       "      <td>41.500000</td>\n",
       "      <td>314.000000</td>\n",
       "      <td>29.069767</td>\n",
       "    </tr>\n",
       "  </tbody>\n",
       "</table>\n",
       "</div>"
      ],
      "text/plain": [
       "             Gender           Age      Duration    Heart_Rate     Body_Temp  \\\n",
       "count  15000.000000  15000.000000  15000.000000  15000.000000  15000.000000   \n",
       "mean       0.503533     42.789800     15.530600     95.518533     40.025453   \n",
       "std        0.500004     16.980264      8.319203      9.583328      0.779230   \n",
       "min        0.000000     20.000000      1.000000     67.000000     37.100000   \n",
       "25%        0.000000     28.000000      8.000000     88.000000     39.600000   \n",
       "50%        1.000000     39.000000     16.000000     96.000000     40.200000   \n",
       "75%        1.000000     56.000000     23.000000    103.000000     40.600000   \n",
       "max        1.000000     79.000000     30.000000    128.000000     41.500000   \n",
       "\n",
       "           Calories           BMI  \n",
       "count  15000.000000  15000.000000  \n",
       "mean      89.539533     24.344900  \n",
       "std       62.456978      1.558784  \n",
       "min        1.000000     19.227688  \n",
       "25%       35.000000     23.243408  \n",
       "50%       79.000000     24.376731  \n",
       "75%      138.000000     25.492722  \n",
       "max      314.000000     29.069767  "
      ]
     },
     "execution_count": 28,
     "metadata": {},
     "output_type": "execute_result"
    }
   ],
   "source": [
    "new_df.describe()"
   ]
  },
  {
   "cell_type": "code",
   "execution_count": 29,
   "id": "790f8f5a",
   "metadata": {},
   "outputs": [
    {
     "name": "stdout",
     "output_type": "stream",
     "text": [
      "Gender       -0.022357\n",
      "Age           0.154395\n",
      "Duration      0.955421\n",
      "Heart_Rate    0.897882\n",
      "Body_Temp     0.824558\n",
      "Calories      1.000000\n",
      "BMI           0.056473\n",
      "Name: Calories, dtype: float64\n",
      "Gender       -0.007264\n",
      "Age           0.013175\n",
      "Duration      0.903167\n",
      "Heart_Rate    0.771529\n",
      "Body_Temp     1.000000\n",
      "Calories      0.824558\n",
      "BMI           0.010827\n",
      "Name: Body_Temp, dtype: float64\n"
     ]
    }
   ],
   "source": [
    "# Assuming your dataframe is named df\n",
    "correlations = new_df.corr()\n",
    "print(correlations['Calories'])\n",
    "print(correlations['Body_Temp'])"
   ]
  },
  {
   "cell_type": "code",
   "execution_count": 89,
   "id": "a284fad2",
   "metadata": {},
   "outputs": [],
   "source": [
    "from sklearn.neighbors import KNeighborsRegressor\n",
    "from sklearn.preprocessing import StandardScaler\n",
    "\n",
    "scaler = StandardScaler()\n",
    "X_scaled = scaler.fit_transform(X)\n",
    "x_train,x_test,y_train,y_test = train_test_split(X_scaled,y,test_size=0.2,random_state=42)"
   ]
  },
  {
   "cell_type": "code",
   "execution_count": 87,
   "id": "a23da6fc",
   "metadata": {},
   "outputs": [
    {
     "name": "stdout",
     "output_type": "stream",
     "text": [
      "R² Score: 0.9850731468647455\n",
      "RMSE: 7.7615505323786085\n",
      "R² Score: 0.9896419119847701\n",
      "RMSE: 6.465530398454046\n",
      "R² Score: 0.9908677236745355\n",
      "RMSE: 6.070911213562834\n",
      "R² Score: 0.9915627815862365\n",
      "RMSE: 5.835310974289774\n",
      "R² Score: 0.9919345353901086\n",
      "RMSE: 5.705307470534199\n",
      "R² Score: 0.9922654140826543\n",
      "RMSE: 5.587054315641287\n",
      "R² Score: 0.9924687744763274\n",
      "RMSE: 5.513116703128361\n",
      "R² Score: 0.9925824855335572\n",
      "RMSE: 5.471338197065382\n",
      "R² Score: 0.9926382383365715\n",
      "RMSE: 5.4507371042294706\n",
      "R² Score: 0.992640622415666\n",
      "RMSE: 5.449854432306732\n",
      "R² Score: 0.9927157419501023\n",
      "RMSE: 5.421968881916773\n",
      "R² Score: 0.9927281147539883\n",
      "RMSE: 5.4173621348401655\n",
      "R² Score: 0.9927339173388875\n",
      "RMSE: 5.415200317376778\n",
      "R² Score: 0.9926704297005741\n",
      "RMSE: 5.43880661054783\n",
      "R² Score: 0.9926243247267383\n",
      "RMSE: 5.455885574992148\n",
      "R² Score: 0.9925926120452496\n",
      "RMSE: 5.467602141440372\n",
      "R² Score: 0.9925380434106867\n",
      "RMSE: 5.487704511668041\n",
      "R² Score: 0.9925185938789685\n",
      "RMSE: 5.494851686963752\n",
      "R² Score: 0.9924010843627383\n",
      "RMSE: 5.537837029548237\n",
      "R² Score: 0.9923429707637541\n",
      "RMSE: 5.558972327088284\n"
     ]
    }
   ],
   "source": [
    "for k in range(1,21):\n",
    "    knn_regr = KNeighborsRegressor(n_neighbors=k)\n",
    "    knn_regr.fit(x_train,y_train)\n",
    "    y_pred2 = knn_regr.predict(x_test)\n",
    "    print(\"R² Score:\", r2_score(y_test, y_pred2))\n",
    "    rmse = np.sqrt(mean_squared_error(y_test, y_pred2))\n",
    "    print(\"RMSE:\", rmse)\n"
   ]
  },
  {
   "cell_type": "code",
   "execution_count": 101,
   "id": "e50e4c0b",
   "metadata": {},
   "outputs": [],
   "source": [
    "array = np.array([[0,26,45,102,38,26]])"
   ]
  },
  {
   "cell_type": "code",
   "execution_count": 102,
   "id": "e134f240",
   "metadata": {},
   "outputs": [],
   "source": [
    "a_scale = scaler.transform(array)"
   ]
  },
  {
   "cell_type": "code",
   "execution_count": 100,
   "id": "6b7b68a7",
   "metadata": {},
   "outputs": [
    {
     "data": {
      "text/plain": [
       "array([[0., 0., 0., 0., 0., 0.]])"
      ]
     },
     "execution_count": 100,
     "metadata": {},
     "output_type": "execute_result"
    }
   ],
   "source": [
    "a_scale"
   ]
  }
 ],
 "metadata": {
  "kernelspec": {
   "display_name": "ds",
   "language": "python",
   "name": "python3"
  },
  "language_info": {
   "codemirror_mode": {
    "name": "ipython",
    "version": 3
   },
   "file_extension": ".py",
   "mimetype": "text/x-python",
   "name": "python",
   "nbconvert_exporter": "python",
   "pygments_lexer": "ipython3",
   "version": "3.13.2"
  }
 },
 "nbformat": 4,
 "nbformat_minor": 5
}
